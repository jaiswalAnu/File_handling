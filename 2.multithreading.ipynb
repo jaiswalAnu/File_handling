{
 "cells": [
  {
   "cell_type": "code",
   "execution_count": 1,
   "id": "6c9ae2f7-09d5-496a-ac91-5348fcf6930c",
   "metadata": {},
   "outputs": [],
   "source": [
    "#A process is an instance of a computer program\n",
    "#process runs parallely on multiple processors>> multiprocessing\n",
    "#process runs concurrently on multiple threads in a processor>>multithreading"
   ]
  },
  {
   "cell_type": "code",
   "execution_count": 2,
   "id": "019b1434-b58b-4dca-b31e-8d674b528364",
   "metadata": {},
   "outputs": [
    {
     "name": "stdout",
     "output_type": "stream",
     "text": [
      "do something\n",
      "sleep for 1 sec\n",
      "done with sleeping\n",
      "The program finished in 1.0 seconds\n"
     ]
    }
   ],
   "source": [
    "import time\n",
    "start = time.perf_counter()\n",
    "\n",
    "def test_func():\n",
    "    print(\"do something\")\n",
    "    print(\"sleep for 1 sec\")\n",
    "    time.sleep(1)\n",
    "    print(\"done with sleeping\")\n",
    "test_func()\n",
    "end = time.perf_counter()\n",
    "\n",
    "print(f\"The program finished in {round(end-start, 2)} seconds\")"
   ]
  },
  {
   "cell_type": "code",
   "execution_count": 3,
   "id": "379e5dbd-d681-4c04-948d-b9e9642fa8e6",
   "metadata": {},
   "outputs": [
    {
     "name": "stdout",
     "output_type": "stream",
     "text": [
      "do something\n",
      "sleep for 1 sec\n",
      "done with sleeping\n",
      "do something\n",
      "sleep for 1 sec\n",
      "done with sleeping\n",
      "do something\n",
      "sleep for 1 sec\n",
      "done with sleeping\n",
      "do something\n",
      "sleep for 1 sec\n",
      "done with sleeping\n",
      "do something\n",
      "sleep for 1 sec\n",
      "done with sleeping\n",
      "The program finished in 5.01 seconds\n"
     ]
    }
   ],
   "source": [
    "import time\n",
    "start = time.perf_counter()\n",
    "\n",
    "def test_func():\n",
    "    print(\"do something\")\n",
    "    print(\"sleep for 1 sec\")\n",
    "    time.sleep(1)\n",
    "    print(\"done with sleeping\")\n",
    "test_func()\n",
    "test_func()\n",
    "test_func()\n",
    "test_func()\n",
    "test_func()\n",
    "end = time.perf_counter()\n",
    "\n",
    "print(f\"The program finished in {round(end-start, 2)} seconds\")"
   ]
  },
  {
   "cell_type": "code",
   "execution_count": null,
   "id": "879cef29-0653-497e-99ec-595c034243bc",
   "metadata": {},
   "outputs": [],
   "source": [
    "#since the program ran sequentially(single thread on a single core), so it took 5 secs"
   ]
  },
  {
   "cell_type": "code",
   "execution_count": 5,
   "id": "a843c6f3-9189-4f5c-bb82-763c59125ff1",
   "metadata": {},
   "outputs": [
    {
     "name": "stdout",
     "output_type": "stream",
     "text": [
      "do something\n",
      "sleep for 1 sec\n",
      "do something\n",
      "sleep for 1 sec\n",
      "done with sleeping\n",
      "done with sleeping\n",
      "The program finished in 1.0 seconds\n"
     ]
    }
   ],
   "source": [
    "import time\n",
    "import threading #python module\n",
    "start = time.perf_counter()\n",
    "\n",
    "def test_func():\n",
    "    print(\"do something\")\n",
    "    print(\"sleep for 1 sec\")\n",
    "    time.sleep(1)\n",
    "    print(\"done with sleeping\")\n",
    "\n",
    "#run the program on two threads\n",
    "t1 = threading.Thread(target = test_func)\n",
    "t2 = threading.Thread(target = test_func)\n",
    "\n",
    "t1.start() #to start the thread\n",
    "t2.start()\n",
    "\n",
    "t1.join() #join first executed these t1, t2 threads and then the main thread will be executed\n",
    "t2.join()\n",
    "\n",
    "end = time.perf_counter()\n",
    "\n",
    "print(f\"The program finished in {round(end-start, 2)} seconds\")"
   ]
  },
  {
   "cell_type": "code",
   "execution_count": 6,
   "id": "1dd81ff1-e4ed-4611-aba9-d1aa99dc4dbf",
   "metadata": {},
   "outputs": [
    {
     "name": "stdout",
     "output_type": "stream",
     "text": [
      "do something\n",
      "sleep for 1 sec\n",
      "do something\n",
      "sleep for 1 sec\n",
      "do something\n",
      "sleep for 1 sec\n",
      "do something\n",
      "sleep for 1 sec\n",
      "do something\n",
      "sleep for 1 sec\n",
      "do something\n",
      "sleep for 1 sec\n",
      "do something\n",
      "sleep for 1 sec\n",
      "do something\n",
      "sleep for 1 sec\n",
      "do something\n",
      "sleep for 1 sec\n",
      "do something\n",
      "sleep for 1 sec\n",
      "done with sleeping\n",
      "done with sleeping\n",
      "done with sleeping\n",
      "done with sleeping\n",
      "done with sleeping\n",
      "done with sleeping\n",
      "done with sleeping\n",
      "done with sleeping\n",
      "done with sleeping\n",
      "done with sleeping\n",
      "The program finished in 1.01 seconds\n"
     ]
    }
   ],
   "source": [
    "import time\n",
    "import threading #python module\n",
    "start = time.perf_counter()\n",
    "\n",
    "def test_func():\n",
    "    print(\"do something\")\n",
    "    print(\"sleep for 1 sec\")\n",
    "    time.sleep(1)\n",
    "    print(\"done with sleeping\")\n",
    "\n",
    "threads = []\n",
    "for i in range(10):\n",
    "    t = threading.Thread(target = test_func)\n",
    "    t.start()\n",
    "    threads.append(t)\n",
    "\n",
    "for thread in threads:\n",
    "    thread.join()\n",
    "\n",
    "\n",
    "end = time.perf_counter()\n",
    "\n",
    "print(f\"The program finished in {round(end-start, 2)} seconds\")"
   ]
  },
  {
   "cell_type": "code",
   "execution_count": 7,
   "id": "07dd7534-74a7-4099-b6b9-06b517e8c3c6",
   "metadata": {},
   "outputs": [],
   "source": [
    "#since test_func is called in 10 times, it should have taken 10 secs but due to multithreading got completed in 1 secs"
   ]
  },
  {
   "cell_type": "code",
   "execution_count": 8,
   "id": "d2a6cd9b-8ff8-4b38-a3d3-7159c51a161e",
   "metadata": {},
   "outputs": [
    {
     "name": "stdout",
     "output_type": "stream",
     "text": [
      "do something\n",
      "sleep for 2 sec\n",
      "do something\n",
      "sleep for 2 sec\n",
      "do something\n",
      "sleep for 2 sec\n",
      "do something\n",
      "sleep for 2 sec\n",
      "do something\n",
      "sleep for 2 sec\n",
      "do something\n",
      "sleep for 2 sec\n",
      "do something\n",
      "sleep for 2 sec\n",
      "do something\n",
      "sleep for 2 sec\n",
      "do something\n",
      "sleep for 2 sec\n",
      "do something\n",
      "sleep for 2 sec\n",
      "done with sleeping\n",
      "done with sleeping\n",
      "done with sleeping\n",
      "done with sleeping\n",
      "done with sleeping\n",
      "done with sleeping\n",
      "done with sleeping\n",
      "done with sleeping\n",
      "done with sleeping\n",
      "done with sleeping\n",
      "The program finished in 2.01 seconds\n"
     ]
    }
   ],
   "source": [
    "#using multithreading with function that takes an argument\n",
    "import time\n",
    "import threading #python module\n",
    "start = time.perf_counter()\n",
    "\n",
    "def test_func(args):\n",
    "    print(\"do something\")\n",
    "    print(f\"sleep for {args} sec\")\n",
    "    time.sleep(args)\n",
    "    print(\"done with sleeping\")\n",
    "\n",
    "threads = []\n",
    "for i in range(10):\n",
    "    t = threading.Thread(target = test_func, args = [2])\n",
    "    t.start()\n",
    "    threads.append(t)\n",
    "\n",
    "for thread in threads:\n",
    "    thread.join()\n",
    "\n",
    "\n",
    "end = time.perf_counter()\n",
    "\n",
    "print(f\"The program finished in {round(end-start, 2)} seconds\")"
   ]
  },
  {
   "cell_type": "code",
   "execution_count": null,
   "id": "ff816734-e5f6-4750-9e00-3d06e37cc2c8",
   "metadata": {},
   "outputs": [],
   "source": [
    "#use case\n",
    "#Multithreading works well with I/O bound task means where some output has to wait for input\n",
    "#eg: reading-writing files, network communiication, data base queries"
   ]
  },
  {
   "cell_type": "code",
   "execution_count": 9,
   "id": "ac210eb6-5d7d-4e88-a12d-c31edc3e44ea",
   "metadata": {},
   "outputs": [
    {
     "name": "stdout",
     "output_type": "stream",
     "text": [
      "The program finished in 1.63 seconds\n"
     ]
    }
   ],
   "source": [
    "#https://github.com/itsfoss/text-files\n",
    "import time\n",
    "import threading\n",
    "start = time.perf_counter()\n",
    "url_list = [\n",
    "    'https://raw.githubusercontent.com/dscape/spell/master/test/resources/big.txt',\n",
    "    'https://raw.githubusercontent.com/first20hours/google-10000-english/master/google-10000-english-no-swears.txt',\n",
    "    'https://raw.githubusercontent.com/itsfoss/text-files/master/sherlock.txt' ,\n",
    "    'https://raw.githubusercontent.com/itsfoss/text-files/master/sample_log_file.txt',\n",
    "]\n",
    "\n",
    "data_list = [\"data1.txt\", \"data2.txt\", \"data3.txt\", \"data4.txt\"]\n",
    "\n",
    "import urllib.request\n",
    "\n",
    "def file_download(url, filename):\n",
    "    urllib.request.urlretrieve(url, filename)\n",
    "\n",
    "    \n",
    "threads = []\n",
    "for i in range(len(url_list)):\n",
    "    t = threading.Thread(target = file_download, args = (url_list[i], data_list[i]))\n",
    "    t.start()\n",
    "    threads.append(t)\n",
    "\n",
    "for thread in threads:\n",
    "    thread.join()\n",
    "\n",
    "\n",
    "end = time.perf_counter()\n",
    "\n",
    "print(f\"The program finished in {round(end-start, 2)} seconds\")\n"
   ]
  },
  {
   "cell_type": "code",
   "execution_count": 12,
   "id": "abdb7366-2349-4687-af85-28d7daf4199c",
   "metadata": {},
   "outputs": [
    {
     "name": "stdout",
     "output_type": "stream",
     "text": [
      "The program finished in 0.45 seconds.\n"
     ]
    }
   ],
   "source": [
    "#multithreading using concurrent.futures >>keeps code concise\n",
    "\n",
    "\n",
    "import time\n",
    "import concurrent.futures\n",
    "start = time.perf_counter()\n",
    "\n",
    "url_list = [\n",
    "    'https://raw.githubusercontent.com/dscape/spell/master/test/resources/big.txt',\n",
    "    'https://raw.githubusercontent.com/first20hours/google-10000-english/master/google-10000-english-no-swears.txt',\n",
    "    'https://raw.githubusercontent.com/itsfoss/text-files/master/sherlock.txt' ,\n",
    "    'https://raw.githubusercontent.com/itsfoss/text-files/master/sample_log_file.txt',\n",
    "]\n",
    "\n",
    "\n",
    "data_list = ['data1.txt', 'data2.txt', 'data3.txt', 'data4.txt']\n",
    "    \n",
    "import urllib.request\n",
    "def file_download(url, filename):\n",
    "    urllib.request.urlretrieve(url, filename)\n",
    "\n",
    "with concurrent.futures.ThreadPoolExecutor() as executor:\n",
    "    executor.map(file_download, url_list, data_list)\n",
    "\n",
    "\n",
    "\n",
    "end = time.perf_counter()\n",
    "\n",
    "\n",
    "print(f\"The program finished in {round(end-start, 2)} seconds.\")\n"
   ]
  },
  {
   "cell_type": "code",
   "execution_count": 13,
   "id": "8cb6f9fe-36cb-4403-8ba8-25b9df7ddfbc",
   "metadata": {},
   "outputs": [
    {
     "name": "stdout",
     "output_type": "stream",
     "text": [
      "Thread 1: incremented shared counter to 1\n",
      "Thread 2: incremented shared counter to 2\n",
      "Thread 3: incremented shared counter to 3\n",
      "Thread 4: incremented shared counter to 4\n",
      "Thread 5: incremented shared counter to 5\n",
      "Thread 6: incremented shared counter to 6\n",
      "The program finished in 6.01 seconds.\n"
     ]
    }
   ],
   "source": [
    "#shared variable across all the threads\n",
    "\n",
    "start = time.perf_counter()\n",
    "shared_counter = 0\n",
    "counter_lock = threading.Lock() #locking the counter for a specific thread\n",
    "\n",
    "def increment_shared_counter(x):\n",
    "    global shared_counter #that can be accessed by all the threads\n",
    "    with counter_lock:\n",
    "        shared_counter = shared_counter+1\n",
    "        print(f\"Thread {x}: incremented shared counter to {shared_counter}\")\n",
    "        time.sleep(1)\n",
    "\n",
    "threads = [threading.Thread(target = increment_shared_counter, args = (i,)) for i in [1, 2, 3, 4, 5, 6]]\n",
    "\n",
    "for thread in threads:\n",
    "    thread.start()\n",
    "for thread in threads:\n",
    "    thread.join()\n",
    "\n",
    "end = time.perf_counter()\n",
    "print(f\"The program finished in {round(end-start, 2)} seconds.\")\n"
   ]
  },
  {
   "cell_type": "code",
   "execution_count": 14,
   "id": "ba06cd0b-72f5-4170-ba61-111611db2a7a",
   "metadata": {},
   "outputs": [
    {
     "name": "stdout",
     "output_type": "stream",
     "text": [
      "Thread 1: incremented shared counter to 1\n",
      "Thread 2: incremented shared counter to 2\n",
      "Thread 3: incremented shared counter to 3\n",
      "Thread 4: incremented shared counter to 4\n",
      "Thread 5: incremented shared counter to 5\n",
      "Thread 6: incremented shared counter to 6\n",
      "The program finished in 6.01 seconds.\n"
     ]
    }
   ],
   "source": [
    "#same thing using concurrent futures\n",
    "\n",
    "start = time.perf_counter()\n",
    "shared_counter = 0\n",
    "counter_lock = threading.Lock() #locking the counter for a specific thread\n",
    "\n",
    "def increment_shared_counter(x):\n",
    "    global shared_counter #that can be accessed by all the threads\n",
    "    with counter_lock:\n",
    "        shared_counter = shared_counter+1\n",
    "        print(f\"Thread {x}: incremented shared counter to {shared_counter}\")\n",
    "        time.sleep(1)\n",
    "\n",
    "with concurrent.futures.ThreadPoolExecutor() as executor:\n",
    "    thread_args = [1, 2, 3, 4, 5, 6]\n",
    "    executor.map(increment_shared_counter, thread_args)\n",
    "    \n",
    "end = time.perf_counter()\n",
    "print(f\"The program finished in {round(end-start, 2)} seconds.\")\n"
   ]
  },
  {
   "cell_type": "code",
   "execution_count": null,
   "id": "ae9abcf2-167e-4ad0-8198-56c0ff40e724",
   "metadata": {},
   "outputs": [],
   "source": [
    "#summary>>shared variable can be incremented by individual threads of a process"
   ]
  }
 ],
 "metadata": {
  "kernelspec": {
   "display_name": "Python 3 (ipykernel)",
   "language": "python",
   "name": "python3"
  },
  "language_info": {
   "codemirror_mode": {
    "name": "ipython",
    "version": 3
   },
   "file_extension": ".py",
   "mimetype": "text/x-python",
   "name": "python",
   "nbconvert_exporter": "python",
   "pygments_lexer": "ipython3",
   "version": "3.10.8"
  }
 },
 "nbformat": 4,
 "nbformat_minor": 5
}
