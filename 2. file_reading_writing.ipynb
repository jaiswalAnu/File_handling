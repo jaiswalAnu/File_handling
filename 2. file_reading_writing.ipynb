{
 "cells": [
  {
   "cell_type": "code",
   "execution_count": 1,
   "id": "a64b6d4c-97d0-4ea0-bb08-7f45886090c2",
   "metadata": {},
   "outputs": [],
   "source": [
    "text_content = \"\"\" \n",
    "example1\n",
    "example2\n",
    "example3\n",
    "\"\"\""
   ]
  },
  {
   "cell_type": "code",
   "execution_count": 2,
   "id": "87e15359-587e-4ce2-9780-1789362f1040",
   "metadata": {},
   "outputs": [],
   "source": [
    "with open(\"example.txt\", \"w\") as file:\n",
    "    file.write(text_content)"
   ]
  },
  {
   "cell_type": "code",
   "execution_count": 3,
   "id": "2ff301d3-6ed6-452f-95b2-b09365bfd621",
   "metadata": {},
   "outputs": [
    {
     "name": "stdout",
     "output_type": "stream",
     "text": [
      " \n",
      "example1\n",
      "example2\n",
      "example3\n",
      "\n"
     ]
    }
   ],
   "source": [
    "with open(\"example.txt\", \"r\") as file:\n",
    "    data = file.read()\n",
    "print(data)"
   ]
  },
  {
   "cell_type": "code",
   "execution_count": 6,
   "id": "981cf3bb-a149-486b-a7f2-c8d03124f76c",
   "metadata": {},
   "outputs": [],
   "source": [
    "#csv>>comma separated values file\n",
    "data = [[\"Name\", \"Course\", \"Fee\"],\n",
    "       [\"Ajay\", \"DS\", \"20000\"],\n",
    "       [\"Rahul\", \"DA\", \"30000\"]]"
   ]
  },
  {
   "cell_type": "code",
   "execution_count": 7,
   "id": "aaabf30f-5597-48f3-9041-0fe1c5dd8a61",
   "metadata": {},
   "outputs": [
    {
     "name": "stdout",
     "output_type": "stream",
     "text": [
      "['Name', 'Course', 'Fee']\n",
      "['Ajay', 'DS', '20000']\n",
      "['Rahul', 'DA', '30000']\n"
     ]
    }
   ],
   "source": [
    "for i in data:\n",
    "    print(i)"
   ]
  },
  {
   "cell_type": "code",
   "execution_count": 8,
   "id": "ffeddbd9-a321-4fa7-993e-8bc33aaaee0c",
   "metadata": {},
   "outputs": [],
   "source": [
    "import csv\n",
    "with open(\"example_csv.csv\", \"w\") as f:\n",
    "    w = csv.writer(f)\n",
    "    for i in data:\n",
    "        w.writerow(i)"
   ]
  },
  {
   "cell_type": "code",
   "execution_count": 9,
   "id": "dc5f528c-639f-4fa0-b34a-37a143aa0679",
   "metadata": {},
   "outputs": [
    {
     "name": "stdout",
     "output_type": "stream",
     "text": [
      "['Name', 'Course', 'Fee']\n",
      "['Ajay', 'DS', '20000']\n",
      "['Rahul', 'DA', '30000']\n"
     ]
    }
   ],
   "source": [
    "with open(\"example_csv.csv\", 'r') as f:\n",
    "    r = csv.reader(f)\n",
    "    for i in r:\n",
    "        print(i)"
   ]
  },
  {
   "cell_type": "code",
   "execution_count": 11,
   "id": "094d45ba-7d4d-4c5b-810a-b1fa2fe3a0be",
   "metadata": {},
   "outputs": [
    {
     "data": {
      "text/plain": [
       "{'name': 'Ajay', 'course': 'DS', 'fee': 2000}"
      ]
     },
     "execution_count": 11,
     "metadata": {},
     "output_type": "execute_result"
    }
   ],
   "source": [
    "#JSON>> Javascript object notation\n",
    "data = {\"name\": \"Ajay\",\n",
    "       \"course\":\"DS\",\n",
    "       \"fee\": 2000}\n",
    "data"
   ]
  },
  {
   "cell_type": "code",
   "execution_count": 12,
   "id": "d598b9a0-e084-4b2f-8f57-6996391d1b4c",
   "metadata": {},
   "outputs": [
    {
     "data": {
      "text/plain": [
       "dict"
      ]
     },
     "execution_count": 12,
     "metadata": {},
     "output_type": "execute_result"
    }
   ],
   "source": [
    "type(data)"
   ]
  },
  {
   "cell_type": "code",
   "execution_count": 13,
   "id": "cabad267-3a6f-40da-a59c-7e397ddd38ca",
   "metadata": {},
   "outputs": [],
   "source": [
    "import json\n",
    "with open(\"file_json.json\", \"w\") as f:\n",
    "    json.dump(data, f)"
   ]
  },
  {
   "cell_type": "code",
   "execution_count": 14,
   "id": "b37a5b51-5797-4b01-bc2d-954966cc3239",
   "metadata": {},
   "outputs": [
    {
     "name": "stdout",
     "output_type": "stream",
     "text": [
      "{'name': 'Ajay', 'course': 'DS', 'fee': 2000}\n"
     ]
    }
   ],
   "source": [
    "with open(\"file_json.json\", \"r\") as f:\n",
    "    data = json.load(f)\n",
    "print(data)"
   ]
  },
  {
   "cell_type": "code",
   "execution_count": 16,
   "id": "7b514928-9a45-4539-abeb-d57d6fde7839",
   "metadata": {},
   "outputs": [],
   "source": [
    "#write a binary data in a file\n",
    "#wb>>write byte mode\n",
    "with open(\"test_bin.bin\", \"wb\") as f:\n",
    "    f.write(b\"\\x48\\x65\\x6c\\x6c\\x6f\\x2c\\x20\\x57\\x6f\\x72\\x6c\\x64\\x21\")"
   ]
  },
  {
   "cell_type": "code",
   "execution_count": 17,
   "id": "05135f38-9509-4068-9194-034e5d8292af",
   "metadata": {},
   "outputs": [
    {
     "name": "stdout",
     "output_type": "stream",
     "text": [
      "b'Hello, World!'\n"
     ]
    }
   ],
   "source": [
    "with open(\"test_bin.bin\", \"rb\") as f:\n",
    "    print(f.read())"
   ]
  },
  {
   "cell_type": "code",
   "execution_count": 18,
   "id": "5bac9778-2f75-44e1-b480-d460ccc3a67f",
   "metadata": {},
   "outputs": [],
   "source": [
    "#Buffered reading and writing\n",
    "#it alllows the program to read and write data in chunks\n",
    "#it increases teh performance and efficiency"
   ]
  },
  {
   "cell_type": "code",
   "execution_count": 19,
   "id": "6fd690e6-84a6-4db1-8362-c3cc4cd71bd5",
   "metadata": {},
   "outputs": [],
   "source": [
    "import io\n",
    "with open('test_buf.txt', \"wb\") as f:\n",
    "    file = io.BufferedWriter(f)\n",
    "    file.write(b\"A computer is a machine that can be programmed to automatically carry out sequences of arithmetic or logical operations (computation). Modern digital electronic computers can perform generic sets of operations known as programs. These programs enable computers to perform a wide range of tasks. The term computer system may refer to a nominally complete computer that includes the hardware, operating system, software, and peripheral equipment needed and used for full operation; or to a group of computers that are linked and function together, such as a computer network or computer cluster.\")\n",
    "    file.write(b\"Hello world, how are you?\")\n",
    "    file.write(b\"I am studying ds\")\n",
    "    file.flush()"
   ]
  },
  {
   "cell_type": "code",
   "execution_count": 22,
   "id": "d19a5516-203b-4ccd-929a-afbcae352307",
   "metadata": {},
   "outputs": [
    {
     "name": "stdout",
     "output_type": "stream",
     "text": [
      "b'A computer is a machine that can be programmed to automatically carry out sequences of arithmetic or logical operations (computation). Modern digital '\n"
     ]
    }
   ],
   "source": [
    "with open('test_buf.txt', \"rb\") as f:\n",
    "    file = io.BufferedReader(f)\n",
    "    data = file.read(150) #read the first chunk of 100 bytes\n",
    "    print(data)"
   ]
  },
  {
   "cell_type": "code",
   "execution_count": null,
   "id": "8c4bc833-c470-43af-b57f-7a59bc450f51",
   "metadata": {},
   "outputs": [],
   "source": []
  }
 ],
 "metadata": {
  "kernelspec": {
   "display_name": "Python 3 (ipykernel)",
   "language": "python",
   "name": "python3"
  },
  "language_info": {
   "codemirror_mode": {
    "name": "ipython",
    "version": 3
   },
   "file_extension": ".py",
   "mimetype": "text/x-python",
   "name": "python",
   "nbconvert_exporter": "python",
   "pygments_lexer": "ipython3",
   "version": "3.10.8"
  }
 },
 "nbformat": 4,
 "nbformat_minor": 5
}
