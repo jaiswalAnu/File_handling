{
 "cells": [
  {
   "cell_type": "code",
   "execution_count": null,
   "id": "a772852e-683d-4876-84b5-8f479f140744",
   "metadata": {},
   "outputs": [],
   "source": [
    "#mode\n",
    "#r >> read mode\n",
    "#w>> write mode\n",
    "#a >> append mode\n",
    "#r+>> both reading and writing"
   ]
  },
  {
   "cell_type": "code",
   "execution_count": 1,
   "id": "9e1538c7-55a0-457b-86a6-f26573002639",
   "metadata": {},
   "outputs": [
    {
     "ename": "FileNotFoundError",
     "evalue": "[Errno 2] No such file or directory: 'files.txt'",
     "output_type": "error",
     "traceback": [
      "\u001b[0;31m---------------------------------------------------------------------------\u001b[0m",
      "\u001b[0;31mFileNotFoundError\u001b[0m                         Traceback (most recent call last)",
      "Cell \u001b[0;32mIn[1], line 1\u001b[0m\n\u001b[0;32m----> 1\u001b[0m \u001b[38;5;28;43mopen\u001b[39;49m\u001b[43m(\u001b[49m\u001b[38;5;124;43m\"\u001b[39;49m\u001b[38;5;124;43mfiles.txt\u001b[39;49m\u001b[38;5;124;43m\"\u001b[39;49m\u001b[43m,\u001b[49m\u001b[43m \u001b[49m\u001b[38;5;124;43m'\u001b[39;49m\u001b[38;5;124;43mr\u001b[39;49m\u001b[38;5;124;43m'\u001b[39;49m\u001b[43m)\u001b[49m \u001b[38;5;66;03m#if there is no any file, and you open it in read mode it will throw an error\u001b[39;00m\n",
      "File \u001b[0;32m/opt/conda/lib/python3.10/site-packages/IPython/core/interactiveshell.py:282\u001b[0m, in \u001b[0;36m_modified_open\u001b[0;34m(file, *args, **kwargs)\u001b[0m\n\u001b[1;32m    275\u001b[0m \u001b[38;5;28;01mif\u001b[39;00m file \u001b[38;5;129;01min\u001b[39;00m {\u001b[38;5;241m0\u001b[39m, \u001b[38;5;241m1\u001b[39m, \u001b[38;5;241m2\u001b[39m}:\n\u001b[1;32m    276\u001b[0m     \u001b[38;5;28;01mraise\u001b[39;00m \u001b[38;5;167;01mValueError\u001b[39;00m(\n\u001b[1;32m    277\u001b[0m         \u001b[38;5;124mf\u001b[39m\u001b[38;5;124m\"\u001b[39m\u001b[38;5;124mIPython won\u001b[39m\u001b[38;5;124m'\u001b[39m\u001b[38;5;124mt let you open fd=\u001b[39m\u001b[38;5;132;01m{\u001b[39;00mfile\u001b[38;5;132;01m}\u001b[39;00m\u001b[38;5;124m by default \u001b[39m\u001b[38;5;124m\"\u001b[39m\n\u001b[1;32m    278\u001b[0m         \u001b[38;5;124m\"\u001b[39m\u001b[38;5;124mas it is likely to crash IPython. If you know what you are doing, \u001b[39m\u001b[38;5;124m\"\u001b[39m\n\u001b[1;32m    279\u001b[0m         \u001b[38;5;124m\"\u001b[39m\u001b[38;5;124myou can use builtins\u001b[39m\u001b[38;5;124m'\u001b[39m\u001b[38;5;124m open.\u001b[39m\u001b[38;5;124m\"\u001b[39m\n\u001b[1;32m    280\u001b[0m     )\n\u001b[0;32m--> 282\u001b[0m \u001b[38;5;28;01mreturn\u001b[39;00m \u001b[43mio_open\u001b[49m\u001b[43m(\u001b[49m\u001b[43mfile\u001b[49m\u001b[43m,\u001b[49m\u001b[43m \u001b[49m\u001b[38;5;241;43m*\u001b[39;49m\u001b[43margs\u001b[49m\u001b[43m,\u001b[49m\u001b[43m \u001b[49m\u001b[38;5;241;43m*\u001b[39;49m\u001b[38;5;241;43m*\u001b[39;49m\u001b[43mkwargs\u001b[49m\u001b[43m)\u001b[49m\n",
      "\u001b[0;31mFileNotFoundError\u001b[0m: [Errno 2] No such file or directory: 'files.txt'"
     ]
    }
   ],
   "source": [
    "open(\"files.txt\", 'r') #if there is no any file, and you open it in read mode it will throw an error"
   ]
  },
  {
   "cell_type": "code",
   "execution_count": 2,
   "id": "fa9ff9e6-799a-4c83-89e8-58ac0b1807d4",
   "metadata": {},
   "outputs": [],
   "source": [
    "file = open(\"file.txt\", \"w\") #w>>write mode, if a file is not there it will create the file.txt and then read it"
   ]
  },
  {
   "cell_type": "code",
   "execution_count": 3,
   "id": "b5415086-09a2-453f-9a8f-26e83f3a8bef",
   "metadata": {},
   "outputs": [
    {
     "data": {
      "text/plain": [
       "44"
      ]
     },
     "execution_count": 3,
     "metadata": {},
     "output_type": "execute_result"
    }
   ],
   "source": [
    "file.write(\"Hello this is my first line in the text file\") #number below is no of bytes you have written"
   ]
  },
  {
   "cell_type": "code",
   "execution_count": 4,
   "id": "8ec4cc71-a6eb-4936-bde4-12455314aba2",
   "metadata": {},
   "outputs": [],
   "source": [
    "#as of now if you open the written file you will not be able to see any text in file\n",
    "#to see you have to close the file"
   ]
  },
  {
   "cell_type": "code",
   "execution_count": 5,
   "id": "cc8575b0-6c85-41a7-a262-967e8df80737",
   "metadata": {},
   "outputs": [],
   "source": [
    "file.close()"
   ]
  },
  {
   "cell_type": "code",
   "execution_count": 6,
   "id": "3ad1a5fb-8a47-4fa4-9e90-3b3d182aa150",
   "metadata": {},
   "outputs": [
    {
     "data": {
      "text/plain": [
       "<_io.TextIOWrapper name='file.txt' mode='w' encoding='UTF-8'>"
      ]
     },
     "execution_count": 6,
     "metadata": {},
     "output_type": "execute_result"
    }
   ],
   "source": [
    "file #file attributes"
   ]
  },
  {
   "cell_type": "code",
   "execution_count": 7,
   "id": "a56a04a1-946b-4bd9-8f8c-b64517930a01",
   "metadata": {},
   "outputs": [
    {
     "data": {
      "text/plain": [
       "True"
      ]
     },
     "execution_count": 7,
     "metadata": {},
     "output_type": "execute_result"
    }
   ],
   "source": [
    "file.closed #if file is closed it will return true else false"
   ]
  },
  {
   "cell_type": "code",
   "execution_count": 8,
   "id": "0ebbd1f6-f19e-466c-bbf3-da939d62d9fc",
   "metadata": {},
   "outputs": [],
   "source": [
    "file = open(\"file.txt\", \"r\")"
   ]
  },
  {
   "cell_type": "code",
   "execution_count": 9,
   "id": "dd3844e7-82df-4536-a95b-3c4109f6bcf6",
   "metadata": {},
   "outputs": [
    {
     "data": {
      "text/plain": [
       "False"
      ]
     },
     "execution_count": 9,
     "metadata": {},
     "output_type": "execute_result"
    }
   ],
   "source": [
    "file.closed"
   ]
  },
  {
   "cell_type": "code",
   "execution_count": 10,
   "id": "70f3763c-75aa-409e-be25-847dcd060d10",
   "metadata": {},
   "outputs": [],
   "source": [
    "file.close()"
   ]
  },
  {
   "cell_type": "code",
   "execution_count": 11,
   "id": "1cc1157a-cec2-408d-91c7-6dc7a4a6aa08",
   "metadata": {},
   "outputs": [
    {
     "data": {
      "text/plain": [
       "True"
      ]
     },
     "execution_count": 11,
     "metadata": {},
     "output_type": "execute_result"
    }
   ],
   "source": [
    "file.closed"
   ]
  },
  {
   "cell_type": "code",
   "execution_count": 12,
   "id": "1304c4fc-bf8f-402e-9aca-0d844a45177d",
   "metadata": {},
   "outputs": [
    {
     "data": {
      "text/plain": [
       "'file.txt'"
      ]
     },
     "execution_count": 12,
     "metadata": {},
     "output_type": "execute_result"
    }
   ],
   "source": [
    "file.name"
   ]
  },
  {
   "cell_type": "code",
   "execution_count": 13,
   "id": "b63ca6d4-689a-49ce-a3cf-262370ee8dd4",
   "metadata": {},
   "outputs": [
    {
     "data": {
      "text/plain": [
       "'r'"
      ]
     },
     "execution_count": 13,
     "metadata": {},
     "output_type": "execute_result"
    }
   ],
   "source": [
    "file.mode"
   ]
  },
  {
   "cell_type": "code",
   "execution_count": 14,
   "id": "2d2d947f-ab05-4d7f-890d-a5a71f210de4",
   "metadata": {},
   "outputs": [
    {
     "data": {
      "text/plain": [
       "True"
      ]
     },
     "execution_count": 14,
     "metadata": {},
     "output_type": "execute_result"
    }
   ],
   "source": [
    "file.closed"
   ]
  },
  {
   "cell_type": "code",
   "execution_count": 15,
   "id": "ab668d55-2eb8-44d6-8c6e-6b1184bf35b1",
   "metadata": {},
   "outputs": [
    {
     "ename": "ValueError",
     "evalue": "I/O operation on closed file.",
     "output_type": "error",
     "traceback": [
      "\u001b[0;31m---------------------------------------------------------------------------\u001b[0m",
      "\u001b[0;31mValueError\u001b[0m                                Traceback (most recent call last)",
      "Cell \u001b[0;32mIn[15], line 1\u001b[0m\n\u001b[0;32m----> 1\u001b[0m \u001b[43mfile\u001b[49m\u001b[38;5;241;43m.\u001b[39;49m\u001b[43mwrite\u001b[49m\u001b[43m(\u001b[49m\u001b[38;5;124;43m\"\u001b[39;49m\u001b[38;5;124;43mThis is my second line\u001b[39;49m\u001b[38;5;124;43m\"\u001b[39;49m\u001b[43m)\u001b[49m \u001b[38;5;66;03m#this will not be executed, throw an error>> file is closed>>you can not write anything in closed file\u001b[39;00m\n",
      "\u001b[0;31mValueError\u001b[0m: I/O operation on closed file."
     ]
    }
   ],
   "source": [
    "file.write(\"This is my second line\") #this will not be executed, throw an error>> file is closed>>you can not write anything in closed file"
   ]
  },
  {
   "cell_type": "code",
   "execution_count": 16,
   "id": "2e892337-1d01-436c-a637-e92536d90d26",
   "metadata": {},
   "outputs": [],
   "source": [
    "file = open(\"file.txt\", \"w\") #it will truncate(delete) all earlier contetnt and make a fresh file.txt"
   ]
  },
  {
   "cell_type": "code",
   "execution_count": 17,
   "id": "a094a7ff-192e-4d8e-9d30-e6d661ff9967",
   "metadata": {},
   "outputs": [],
   "source": [
    "file.close()"
   ]
  },
  {
   "cell_type": "code",
   "execution_count": 19,
   "id": "cb3b4c60-1ca7-4ae2-a687-54fc53bfce14",
   "metadata": {},
   "outputs": [],
   "source": [
    "file = open(\"file.txt\", \"w\")\n",
    "file.write(\"This is my first line\\n\")\n",
    "file.write(\"This is my second line\\n\")\n",
    "file.write(\"This is my third line\\n\")\n",
    "file.write(\"This is my fourth line\\n\")\n",
    "file.close()"
   ]
  },
  {
   "cell_type": "code",
   "execution_count": 21,
   "id": "4729fe9c-7ecb-404a-a201-878b7e0ce9f6",
   "metadata": {},
   "outputs": [],
   "source": [
    "file = open(\"file.txt\", \"w\")\n",
    "file.write(\"This is fifth line\") #all earlier content will deleted\n",
    "file.close()"
   ]
  },
  {
   "cell_type": "code",
   "execution_count": 22,
   "id": "c9c8b6bc-12f4-433c-bb11-6cf047d77e57",
   "metadata": {},
   "outputs": [],
   "source": [
    "file = open(\"file.txt\", \"w\")\n",
    "file.write(\"This is my first line\\n\")\n",
    "file.write(\"This is my second line\\n\")\n",
    "file.write(\"This is my third line\\n\")\n",
    "file.write(\"This is my fourth line\\n\")\n",
    "file.close()"
   ]
  },
  {
   "cell_type": "code",
   "execution_count": 23,
   "id": "9e33907b-5ee5-414e-84dd-601e4fb2468e",
   "metadata": {},
   "outputs": [],
   "source": [
    "file = open(\"file.txt\", \"a\") #append the new line\n",
    "file.write(\"This is fifth line\")\n",
    "file.close()"
   ]
  },
  {
   "cell_type": "code",
   "execution_count": 24,
   "id": "3fa381e5-b5ad-4afe-a090-9849a7203db6",
   "metadata": {},
   "outputs": [],
   "source": [
    "file = open(\"file.txt\", 'r')"
   ]
  },
  {
   "cell_type": "code",
   "execution_count": 25,
   "id": "8ad77b1b-7d42-4de9-ac38-eb334171b857",
   "metadata": {},
   "outputs": [
    {
     "ename": "UnsupportedOperation",
     "evalue": "not writable",
     "output_type": "error",
     "traceback": [
      "\u001b[0;31m---------------------------------------------------------------------------\u001b[0m",
      "\u001b[0;31mUnsupportedOperation\u001b[0m                      Traceback (most recent call last)",
      "Cell \u001b[0;32mIn[25], line 1\u001b[0m\n\u001b[0;32m----> 1\u001b[0m \u001b[43mfile\u001b[49m\u001b[38;5;241;43m.\u001b[39;49m\u001b[43mwrite\u001b[49m\u001b[43m(\u001b[49m\u001b[38;5;124;43m\"\u001b[39;49m\u001b[38;5;124;43mthis is another line\u001b[39;49m\u001b[38;5;124;43m\"\u001b[39;49m\u001b[43m)\u001b[49m\n",
      "\u001b[0;31mUnsupportedOperation\u001b[0m: not writable"
     ]
    }
   ],
   "source": [
    "file.write(\"this is another line\")"
   ]
  },
  {
   "cell_type": "code",
   "execution_count": 26,
   "id": "6f8ba3f5-404f-45d6-ba97-a241224007c2",
   "metadata": {},
   "outputs": [
    {
     "data": {
      "text/plain": [
       "<_io.TextIOWrapper name='file.txt' mode='r' encoding='UTF-8'>"
      ]
     },
     "execution_count": 26,
     "metadata": {},
     "output_type": "execute_result"
    }
   ],
   "source": [
    "file"
   ]
  },
  {
   "cell_type": "code",
   "execution_count": 27,
   "id": "16f97f5b-cc8c-4b8c-ab96-5d425d4a6972",
   "metadata": {},
   "outputs": [
    {
     "name": "stdout",
     "output_type": "stream",
     "text": [
      "This is my first line\n",
      "\n",
      "This is my second line\n",
      "\n",
      "This is my third line\n",
      "\n",
      "This is my fourth line\n",
      "\n",
      "This is fifth line\n"
     ]
    }
   ],
   "source": [
    "#various way of printing lines\n",
    "for i in file:\n",
    "    print(i)"
   ]
  },
  {
   "cell_type": "code",
   "execution_count": 29,
   "id": "c96bbf23-4105-47be-8d1d-fddea0b5a148",
   "metadata": {},
   "outputs": [
    {
     "name": "stdout",
     "output_type": "stream",
     "text": [
      "\n"
     ]
    }
   ],
   "source": [
    "print(file.read()) #here the cursor/pointer is at last position"
   ]
  },
  {
   "cell_type": "code",
   "execution_count": 30,
   "id": "0e848834-dd66-4eac-a835-fb4c01ac8bc4",
   "metadata": {},
   "outputs": [
    {
     "data": {
      "text/plain": [
       "''"
      ]
     },
     "execution_count": 30,
     "metadata": {},
     "output_type": "execute_result"
    }
   ],
   "source": [
    "file.read()"
   ]
  },
  {
   "cell_type": "code",
   "execution_count": 31,
   "id": "d56eee49-7d0c-4fbf-b28c-62c24986d8f2",
   "metadata": {},
   "outputs": [
    {
     "data": {
      "text/plain": [
       "108"
      ]
     },
     "execution_count": 31,
     "metadata": {},
     "output_type": "execute_result"
    }
   ],
   "source": [
    "file.tell() #it tellse the current position of the cursor"
   ]
  },
  {
   "cell_type": "code",
   "execution_count": 32,
   "id": "a09e51c7-771c-4cac-a9ed-cd6225e4f2bb",
   "metadata": {},
   "outputs": [
    {
     "data": {
      "text/plain": [
       "0"
      ]
     },
     "execution_count": 32,
     "metadata": {},
     "output_type": "execute_result"
    }
   ],
   "source": [
    "file.seek(0)"
   ]
  },
  {
   "cell_type": "code",
   "execution_count": 35,
   "id": "77c5ecad-c1af-462a-a77b-5f6f9b8653c6",
   "metadata": {},
   "outputs": [
    {
     "name": "stdout",
     "output_type": "stream",
     "text": [
      "This is my first line\n",
      "This is my second line\n",
      "This is my third line\n",
      "This is my fourth line\n",
      "This is fifth line\n"
     ]
    }
   ],
   "source": [
    "f = open(\"file.txt\", 'r')\n",
    "f.seek(0) #it will bring cursor to start of the the file\n",
    "print(f.read()) #it will read everything from starting\n",
    "f.close()"
   ]
  },
  {
   "cell_type": "code",
   "execution_count": 34,
   "id": "47a8c6a2-f99d-4c7f-9c74-81afb21f91ab",
   "metadata": {},
   "outputs": [
    {
     "name": "stdout",
     "output_type": "stream",
     "text": [
      "This is my first line\n",
      "\n"
     ]
    }
   ],
   "source": [
    "f = open(\"file.txt\", 'r')\n",
    "print(f.readline()) #it will only read the first line\n",
    "f.close()"
   ]
  },
  {
   "cell_type": "code",
   "execution_count": 36,
   "id": "64166378-5e22-4537-ac13-2e4fa7a65ad5",
   "metadata": {},
   "outputs": [
    {
     "name": "stdout",
     "output_type": "stream",
     "text": [
      "['This is my first line\\n', 'This is my second line\\n', 'This is my third line\\n', 'This is my fourth line\\n', 'This is fifth line']\n"
     ]
    }
   ],
   "source": [
    "f = open(\"file.txt\", 'r')\n",
    "print(f.readlines())  #all the lines will be the element of a list\n",
    "f.close()"
   ]
  },
  {
   "cell_type": "code",
   "execution_count": 39,
   "id": "ba0020cc-f848-4b7d-9720-14b6415036c7",
   "metadata": {},
   "outputs": [
    {
     "name": "stdout",
     "output_type": "stream",
     "text": [
      "/home/jovyan/work\n"
     ]
    }
   ],
   "source": [
    "#present working directory\n",
    "!pwd"
   ]
  },
  {
   "cell_type": "code",
   "execution_count": 37,
   "id": "404f79d4-16f7-4fa5-b0cd-fc7215aacfc4",
   "metadata": {},
   "outputs": [],
   "source": [
    "import os"
   ]
  },
  {
   "cell_type": "code",
   "execution_count": 40,
   "id": "924f6b8f-f008-41c3-9f65-d5e943551c34",
   "metadata": {},
   "outputs": [
    {
     "data": {
      "text/plain": [
       "'/home/jovyan/work'"
      ]
     },
     "execution_count": 40,
     "metadata": {},
     "output_type": "execute_result"
    }
   ],
   "source": [
    "os.getcwd()"
   ]
  },
  {
   "cell_type": "code",
   "execution_count": 41,
   "id": "fd74a667-fd7f-43eb-a451-ab344920d079",
   "metadata": {},
   "outputs": [
    {
     "name": "stdout",
     "output_type": "stream",
     "text": [
      "files_handling_basics.ipynb  file.txt  README.md  sample-code.ipynb\n"
     ]
    }
   ],
   "source": [
    "ls"
   ]
  },
  {
   "cell_type": "code",
   "execution_count": 42,
   "id": "5d1cc594-e40c-4510-8159-6a6a00be54c2",
   "metadata": {},
   "outputs": [
    {
     "data": {
      "text/plain": [
       "108"
      ]
     },
     "execution_count": 42,
     "metadata": {},
     "output_type": "execute_result"
    }
   ],
   "source": [
    "os.path.getsize(\"file.txt\")"
   ]
  },
  {
   "cell_type": "code",
   "execution_count": 43,
   "id": "b25ed52e-3a87-4160-ab26-6b369cc1783d",
   "metadata": {},
   "outputs": [],
   "source": [
    "os.mkdir(\"test\")"
   ]
  },
  {
   "cell_type": "code",
   "execution_count": 44,
   "id": "451c6dd0-aa2e-482a-9b61-7c57aa86eaea",
   "metadata": {},
   "outputs": [],
   "source": [
    "os.mkdir(\"test/test1\")"
   ]
  },
  {
   "cell_type": "code",
   "execution_count": 45,
   "id": "4d0e85dd-4bac-48e6-8f10-1d418e9ad2bf",
   "metadata": {},
   "outputs": [
    {
     "ename": "FileNotFoundError",
     "evalue": "[Errno 2] No such file or directory: '1/2'",
     "output_type": "error",
     "traceback": [
      "\u001b[0;31m---------------------------------------------------------------------------\u001b[0m",
      "\u001b[0;31mFileNotFoundError\u001b[0m                         Traceback (most recent call last)",
      "Cell \u001b[0;32mIn[45], line 1\u001b[0m\n\u001b[0;32m----> 1\u001b[0m \u001b[43mos\u001b[49m\u001b[38;5;241;43m.\u001b[39;49m\u001b[43mmkdir\u001b[49m\u001b[43m(\u001b[49m\u001b[38;5;124;43m\"\u001b[39;49m\u001b[38;5;124;43m1/2\u001b[39;49m\u001b[38;5;124;43m\"\u001b[39;49m\u001b[43m)\u001b[49m\n",
      "\u001b[0;31mFileNotFoundError\u001b[0m: [Errno 2] No such file or directory: '1/2'"
     ]
    }
   ],
   "source": [
    "os.mkdir(\"1/2\") #it will throw an error>>because 1 is not made first"
   ]
  },
  {
   "cell_type": "code",
   "execution_count": 46,
   "id": "56cf48bf-f432-4e7f-a25d-66dc378f1b07",
   "metadata": {},
   "outputs": [],
   "source": [
    "os.makedirs(\"1/2/3/4\")"
   ]
  },
  {
   "cell_type": "code",
   "execution_count": 47,
   "id": "85fab089-7afd-4ce9-96c9-3baa2ddbb8a2",
   "metadata": {},
   "outputs": [
    {
     "name": "stdout",
     "output_type": "stream",
     "text": [
      "\u001b[0m\u001b[01;34m1\u001b[0m/  files_handling_basics.ipynb  file.txt  README.md  sample-code.ipynb  \u001b[01;34mtest\u001b[0m/\n"
     ]
    }
   ],
   "source": [
    "ls"
   ]
  },
  {
   "cell_type": "code",
   "execution_count": 48,
   "id": "dc71e78b-650a-4a2e-8182-d98fc639ae7f",
   "metadata": {},
   "outputs": [
    {
     "data": {
      "text/plain": [
       "['test',\n",
       " 'file.txt',\n",
       " '.ipynb_checkpoints',\n",
       " 'files_handling_basics.ipynb',\n",
       " '1',\n",
       " 'sample-code.ipynb',\n",
       " '.git',\n",
       " 'README.md']"
      ]
     },
     "execution_count": 48,
     "metadata": {},
     "output_type": "execute_result"
    }
   ],
   "source": [
    "os.listdir()"
   ]
  },
  {
   "cell_type": "code",
   "execution_count": 49,
   "id": "6d669852-bffa-4a96-ac48-87109d7e8f9b",
   "metadata": {},
   "outputs": [],
   "source": [
    "os.mkdir(\"feat\")"
   ]
  },
  {
   "cell_type": "code",
   "execution_count": 50,
   "id": "d2f37159-873b-4d58-8a84-d31ba38af533",
   "metadata": {},
   "outputs": [],
   "source": [
    "os.rmdir(\"feat\") #to delete one directory without any content inside the directory"
   ]
  },
  {
   "cell_type": "code",
   "execution_count": 51,
   "id": "8c5a53cd-7dc9-4f53-add1-a2a5179639fd",
   "metadata": {},
   "outputs": [
    {
     "ename": "OSError",
     "evalue": "[Errno 39] Directory not empty: 'test'",
     "output_type": "error",
     "traceback": [
      "\u001b[0;31m---------------------------------------------------------------------------\u001b[0m",
      "\u001b[0;31mOSError\u001b[0m                                   Traceback (most recent call last)",
      "Cell \u001b[0;32mIn[51], line 1\u001b[0m\n\u001b[0;32m----> 1\u001b[0m \u001b[43mos\u001b[49m\u001b[38;5;241;43m.\u001b[39;49m\u001b[43mrmdir\u001b[49m\u001b[43m(\u001b[49m\u001b[38;5;124;43m\"\u001b[39;49m\u001b[38;5;124;43mtest\u001b[39;49m\u001b[38;5;124;43m\"\u001b[39;49m\u001b[43m)\u001b[49m \u001b[38;5;66;03m#throw an error as test is not empty\u001b[39;00m\n",
      "\u001b[0;31mOSError\u001b[0m: [Errno 39] Directory not empty: 'test'"
     ]
    }
   ],
   "source": [
    "os.rmdir(\"test\") #throw an error as test is not empty"
   ]
  },
  {
   "cell_type": "code",
   "execution_count": 52,
   "id": "7e62cb38-d6af-4c54-b5d9-52e4cbf01ec7",
   "metadata": {},
   "outputs": [],
   "source": [
    "import shutil\n",
    "shutil.rmtree(\"test\") #it will remove the folder hierarchy"
   ]
  },
  {
   "cell_type": "code",
   "execution_count": 53,
   "id": "ec0d5613-1f8d-4dbe-b427-07a3505220f9",
   "metadata": {},
   "outputs": [
    {
     "data": {
      "text/plain": [
       "'/home/jovyan/work'"
      ]
     },
     "execution_count": 53,
     "metadata": {},
     "output_type": "execute_result"
    }
   ],
   "source": [
    "os.getcwd()"
   ]
  },
  {
   "cell_type": "code",
   "execution_count": 54,
   "id": "769daa71-2456-4dc9-9213-b1203d8404e1",
   "metadata": {},
   "outputs": [],
   "source": [
    "os.makedirs(\"test/test1\")"
   ]
  },
  {
   "cell_type": "code",
   "execution_count": 55,
   "id": "250087b8-3b2d-42d3-a6ec-95eb19f8e925",
   "metadata": {},
   "outputs": [],
   "source": [
    "f = open(\"/home/jovyan/work/test/test1/file.txt\", \"w\")"
   ]
  },
  {
   "cell_type": "code",
   "execution_count": 56,
   "id": "9ce49f35-bf2f-4db9-9f1b-3954904ca4d1",
   "metadata": {},
   "outputs": [],
   "source": [
    "#copying the above file in the current location >> /home/jovyan/work\n",
    "#shutil.copy(src, dest)"
   ]
  },
  {
   "cell_type": "code",
   "execution_count": 57,
   "id": "e6372f89-c2c2-4afa-96af-680d7d7dff98",
   "metadata": {},
   "outputs": [
    {
     "data": {
      "text/plain": [
       "'/home/jovyan/work/file.txt'"
      ]
     },
     "execution_count": 57,
     "metadata": {},
     "output_type": "execute_result"
    }
   ],
   "source": [
    "shutil.copy(\"/home/jovyan/work/test/test1/file.txt\", '/home/jovyan/work') #keep a copy at original source as well"
   ]
  },
  {
   "cell_type": "code",
   "execution_count": null,
   "id": "80f1fd30-4bc2-4a5a-ae04-2ba3bb795392",
   "metadata": {},
   "outputs": [],
   "source": [
    "#move a file"
   ]
  },
  {
   "cell_type": "code",
   "execution_count": 58,
   "id": "55f8e05c-9b5f-4d0f-bfd2-643d60527f15",
   "metadata": {},
   "outputs": [],
   "source": [
    "os.mkdir(\"file_test\")"
   ]
  },
  {
   "cell_type": "code",
   "execution_count": 59,
   "id": "56faed29-02e8-4dab-9a43-d7f38717f178",
   "metadata": {},
   "outputs": [
    {
     "data": {
      "text/plain": [
       "'/home/jovyan/work/file_test/file.txt'"
      ]
     },
     "execution_count": 59,
     "metadata": {},
     "output_type": "execute_result"
    }
   ],
   "source": [
    "shutil.move(\"/home/jovyan/work/test/test1/file.txt\", '/home/jovyan/work/file_test') "
   ]
  },
  {
   "cell_type": "code",
   "execution_count": 60,
   "id": "14a387ca-3c38-4f34-868e-7aad68c2861c",
   "metadata": {},
   "outputs": [],
   "source": [
    "#move will remove the file from original source to destination source"
   ]
  },
  {
   "cell_type": "code",
   "execution_count": 61,
   "id": "56cf287b-4d75-45bd-836c-655212b9bd1f",
   "metadata": {},
   "outputs": [],
   "source": [
    "with open('file.txt', 'w') as f:\n",
    "    f.write(\"This is my first line\")"
   ]
  },
  {
   "cell_type": "code",
   "execution_count": null,
   "id": "d17d26c0-77a3-44bd-86a3-789fc9559862",
   "metadata": {},
   "outputs": [],
   "source": [
    "#with statment ensures that the file is closed properly after the block of code is executed\n",
    "#important>> free up system resources and avoid issues like data corruption or file lock"
   ]
  },
  {
   "cell_type": "code",
   "execution_count": 62,
   "id": "3d80d590-65a4-4c61-a5ab-2577d3adbc72",
   "metadata": {},
   "outputs": [
    {
     "name": "stdout",
     "output_type": "stream",
     "text": [
      "This is my first line\n"
     ]
    }
   ],
   "source": [
    "with open(\"file.txt\", 'r') as f:\n",
    "    line = f.readline()\n",
    "    print(line)"
   ]
  },
  {
   "cell_type": "code",
   "execution_count": null,
   "id": "53439c85-78e3-471d-be44-dca6dcefb8d8",
   "metadata": {},
   "outputs": [],
   "source": []
  }
 ],
 "metadata": {
  "kernelspec": {
   "display_name": "Python 3 (ipykernel)",
   "language": "python",
   "name": "python3"
  },
  "language_info": {
   "codemirror_mode": {
    "name": "ipython",
    "version": 3
   },
   "file_extension": ".py",
   "mimetype": "text/x-python",
   "name": "python",
   "nbconvert_exporter": "python",
   "pygments_lexer": "ipython3",
   "version": "3.10.8"
  }
 },
 "nbformat": 4,
 "nbformat_minor": 5
}
