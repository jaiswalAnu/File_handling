{
 "cells": [
  {
   "cell_type": "code",
   "execution_count": 1,
   "id": "16470635-b612-4876-b1e6-b8ad20ea9129",
   "metadata": {},
   "outputs": [
    {
     "data": {
      "text/plain": [
       "50.0"
      ]
     },
     "execution_count": 1,
     "metadata": {},
     "output_type": "execute_result"
    }
   ],
   "source": [
    "100/2"
   ]
  },
  {
   "cell_type": "code",
   "execution_count": 2,
   "id": "c63747ac-fecd-41b6-aa05-19bf72dd47fc",
   "metadata": {},
   "outputs": [
    {
     "ename": "TypeError",
     "evalue": "unsupported operand type(s) for /: 'int' and 'str'",
     "output_type": "error",
     "traceback": [
      "\u001b[0;31m---------------------------------------------------------------------------\u001b[0m",
      "\u001b[0;31mTypeError\u001b[0m                                 Traceback (most recent call last)",
      "Cell \u001b[0;32mIn[2], line 1\u001b[0m\n\u001b[0;32m----> 1\u001b[0m \u001b[38;5;241;43m100\u001b[39;49m\u001b[38;5;241;43m/\u001b[39;49m\u001b[38;5;124;43m\"\u001b[39;49m\u001b[38;5;124;43msome string\u001b[39;49m\u001b[38;5;124;43m\"\u001b[39;49m\n",
      "\u001b[0;31mTypeError\u001b[0m: unsupported operand type(s) for /: 'int' and 'str'"
     ]
    }
   ],
   "source": [
    "100/\"some string\""
   ]
  },
  {
   "cell_type": "code",
   "execution_count": 3,
   "id": "12c1abc8-7bef-46aa-b124-09ef776bd667",
   "metadata": {},
   "outputs": [
    {
     "ename": "ZeroDivisionError",
     "evalue": "division by zero",
     "output_type": "error",
     "traceback": [
      "\u001b[0;31m---------------------------------------------------------------------------\u001b[0m",
      "\u001b[0;31mZeroDivisionError\u001b[0m                         Traceback (most recent call last)",
      "Cell \u001b[0;32mIn[3], line 1\u001b[0m\n\u001b[0;32m----> 1\u001b[0m \u001b[38;5;241;43m100\u001b[39;49m\u001b[38;5;241;43m/\u001b[39;49m\u001b[38;5;241;43m0\u001b[39;49m\n",
      "\u001b[0;31mZeroDivisionError\u001b[0m: division by zero"
     ]
    }
   ],
   "source": [
    "100/0"
   ]
  },
  {
   "cell_type": "code",
   "execution_count": 4,
   "id": "14f18090-f92a-46b5-b853-6fd6009c12f5",
   "metadata": {},
   "outputs": [
    {
     "name": "stdout",
     "output_type": "stream",
     "text": [
      "There is some error\n"
     ]
    }
   ],
   "source": [
    "try:\n",
    "    10/0\n",
    "except: #generic exception to print your message\n",
    "    print(\"There is some error\")"
   ]
  },
  {
   "cell_type": "code",
   "execution_count": 6,
   "id": "11f06f3c-5f77-4a7b-af54-8f511849876b",
   "metadata": {},
   "outputs": [
    {
     "name": "stdout",
     "output_type": "stream",
     "text": [
      "There is some error\n"
     ]
    }
   ],
   "source": [
    "try:\n",
    "    10/\"some string\"\n",
    "except:\n",
    "    print(\"There is some error\")"
   ]
  },
  {
   "cell_type": "code",
   "execution_count": 7,
   "id": "9456377f-8c36-4782-8981-6241f7149387",
   "metadata": {},
   "outputs": [
    {
     "name": "stdout",
     "output_type": "stream",
     "text": [
      "There is some error division by zero\n"
     ]
    }
   ],
   "source": [
    "try:\n",
    "    10/0\n",
    "except Exception as e:\n",
    "    print(\"There is some error\", e)"
   ]
  },
  {
   "cell_type": "code",
   "execution_count": 8,
   "id": "7716e386-a99e-46dd-ac71-cc189f5785b1",
   "metadata": {},
   "outputs": [],
   "source": [
    "#The above example is of generic exception handling"
   ]
  },
  {
   "cell_type": "code",
   "execution_count": 9,
   "id": "3bd16eee-0a0a-4aea-90e5-54ba7a225300",
   "metadata": {},
   "outputs": [
    {
     "ename": "ZeroDivisionError",
     "evalue": "division by zero",
     "output_type": "error",
     "traceback": [
      "\u001b[0;31m---------------------------------------------------------------------------\u001b[0m",
      "\u001b[0;31mZeroDivisionError\u001b[0m                         Traceback (most recent call last)",
      "Cell \u001b[0;32mIn[9], line 1\u001b[0m\n\u001b[0;32m----> 1\u001b[0m \u001b[38;5;241;43m10\u001b[39;49m\u001b[38;5;241;43m/\u001b[39;49m\u001b[38;5;241;43m0\u001b[39;49m\n",
      "\u001b[0;31mZeroDivisionError\u001b[0m: division by zero"
     ]
    }
   ],
   "source": [
    "10/0"
   ]
  },
  {
   "cell_type": "code",
   "execution_count": 10,
   "id": "31aed45c-0c85-4aaf-939d-6082126afcf4",
   "metadata": {},
   "outputs": [
    {
     "name": "stdout",
     "output_type": "stream",
     "text": [
      "Here I am handling the zero divison error division by zero\n"
     ]
    }
   ],
   "source": [
    "try:\n",
    "    10/0 #suspicion\n",
    "except ZeroDivisionError as e:\n",
    "    print(\"Here I am handling the zero divison error:\", e)"
   ]
  },
  {
   "cell_type": "code",
   "execution_count": null,
   "id": "a652b859-d666-4121-8e83-b32d032f1ac5",
   "metadata": {},
   "outputs": [],
   "source": [
    "#best practice 1: always catch specific error\n",
    "#specificity in exception handling"
   ]
  },
  {
   "cell_type": "code",
   "execution_count": 11,
   "id": "a34ab857-a3e8-414a-ae22-225a23a93f3e",
   "metadata": {},
   "outputs": [
    {
     "ename": "TypeError",
     "evalue": "unsupported operand type(s) for /: 'int' and 'str'",
     "output_type": "error",
     "traceback": [
      "\u001b[0;31m---------------------------------------------------------------------------\u001b[0m",
      "\u001b[0;31mTypeError\u001b[0m                                 Traceback (most recent call last)",
      "Cell \u001b[0;32mIn[11], line 1\u001b[0m\n\u001b[0;32m----> 1\u001b[0m \u001b[38;5;241;43m10\u001b[39;49m\u001b[38;5;241;43m/\u001b[39;49m\u001b[38;5;124;43m\"\u001b[39;49m\u001b[38;5;124;43msome string\u001b[39;49m\u001b[38;5;124;43m\"\u001b[39;49m\n",
      "\u001b[0;31mTypeError\u001b[0m: unsupported operand type(s) for /: 'int' and 'str'"
     ]
    }
   ],
   "source": [
    "10/\"some string\""
   ]
  },
  {
   "cell_type": "code",
   "execution_count": 12,
   "id": "047663e4-a31b-484d-82ca-be5f4ce1d558",
   "metadata": {},
   "outputs": [
    {
     "name": "stdout",
     "output_type": "stream",
     "text": [
      "Some string is being used in divison unsupported operand type(s) for /: 'int' and 'str'\n"
     ]
    }
   ],
   "source": [
    "#another example\n",
    "try:\n",
    "    10/\"some string\"\n",
    "except TypeError as e:\n",
    "    print(\"Some string is being used in divison\", e)"
   ]
  },
  {
   "cell_type": "code",
   "execution_count": 13,
   "id": "671ff344-b39c-414f-87a7-824c50f30833",
   "metadata": {},
   "outputs": [],
   "source": [
    "#benefit of handling specific error>> you know what error is expected and if\n",
    "#other error comes which you were not able to think, you be able address that"
   ]
  },
  {
   "cell_type": "code",
   "execution_count": 15,
   "id": "b310fb9e-6ee5-4002-9f5f-3f2739bafcfb",
   "metadata": {},
   "outputs": [
    {
     "name": "stdout",
     "output_type": "stream",
     "text": [
      "Some string is being used in divison unsupported operand type(s) for /: 'int' and 'str'\n",
      "The calculation is 3.3333333333333335\n"
     ]
    }
   ],
   "source": [
    "#example to handle some specific exception\n",
    "try:\n",
    "    10/\"3\"\n",
    "except TypeError as e:\n",
    "    print(\"Some string is being used in divison\", e)\n",
    "    print(\"The calculation is\", 10/int(\"3\"))"
   ]
  },
  {
   "cell_type": "code",
   "execution_count": 17,
   "id": "1be18ef0-d497-4c88-8b4a-d0bee020839b",
   "metadata": {},
   "outputs": [
    {
     "name": "stdout",
     "output_type": "stream",
     "text": [
      "Here I am handling the zero divison error: division by zero\n",
      "Since the den value is 0, using default value 1, the quotient is  10.0\n"
     ]
    }
   ],
   "source": [
    "#another example of handling specific exception\n",
    "\n",
    "try:\n",
    "    10/0 \n",
    "except ZeroDivisionError as e:\n",
    "    print(\"Here I am handling the zero divison error:\", e)\n",
    "    print(\"Since the den value is 0, using default value 1, the quotient is \", 10/1)"
   ]
  },
  {
   "cell_type": "code",
   "execution_count": 18,
   "id": "98c3dc00-3ef0-47b2-a54f-573e0ccc203e",
   "metadata": {},
   "outputs": [
    {
     "ename": "ValueError",
     "evalue": "invalid literal for int() with base 10: 'pwskills'",
     "output_type": "error",
     "traceback": [
      "\u001b[0;31m---------------------------------------------------------------------------\u001b[0m",
      "\u001b[0;31mValueError\u001b[0m                                Traceback (most recent call last)",
      "Cell \u001b[0;32mIn[18], line 1\u001b[0m\n\u001b[0;32m----> 1\u001b[0m \u001b[38;5;28;43mint\u001b[39;49m\u001b[43m(\u001b[49m\u001b[38;5;124;43m\"\u001b[39;49m\u001b[38;5;124;43mpwskills\u001b[39;49m\u001b[38;5;124;43m\"\u001b[39;49m\u001b[43m)\u001b[49m\n",
      "\u001b[0;31mValueError\u001b[0m: invalid literal for int() with base 10: 'pwskills'"
     ]
    }
   ],
   "source": [
    "int(\"pwskills\")"
   ]
  },
  {
   "cell_type": "code",
   "execution_count": 19,
   "id": "507afa04-394f-4e00-88c7-6c6d320bc3d2",
   "metadata": {},
   "outputs": [
    {
     "name": "stdout",
     "output_type": "stream",
     "text": [
      "The string can not be converted to integer invalid literal for int() with base 10: 'pwskills'\n"
     ]
    }
   ],
   "source": [
    "try:\n",
    "    int(\"pwskills\")\n",
    "except ValueError as e:\n",
    "    print(\"The string can not be converted to integer\", e)"
   ]
  },
  {
   "cell_type": "code",
   "execution_count": 20,
   "id": "a9f6002d-2edc-4926-8db5-0aa6b81c4dce",
   "metadata": {},
   "outputs": [
    {
     "name": "stdout",
     "output_type": "stream",
     "text": [
      "The divison is not possible due the error>> unsupported operand type(s) for /: 'int' and 'str'\n"
     ]
    }
   ],
   "source": [
    "#handling two specific exception/multiple exceptions\n",
    "try:\n",
    "    10/\"3\"\n",
    "except (ZeroDivisionError, TypeError) as e:\n",
    "    print(\"The divison is not possible due the error>>\", e)"
   ]
  },
  {
   "cell_type": "code",
   "execution_count": 21,
   "id": "dce9b15a-3448-4dca-acea-02a4de0e9d4f",
   "metadata": {},
   "outputs": [
    {
     "name": "stdout",
     "output_type": "stream",
     "text": [
      "The divison is not possible due the error>> division by zero\n"
     ]
    }
   ],
   "source": [
    "try:\n",
    "    10/0\n",
    "except (ZeroDivisionError, TypeError) as e:\n",
    "    print(\"The divison is not possible due the error>>\", e)"
   ]
  },
  {
   "cell_type": "code",
   "execution_count": 29,
   "id": "4cd741d0-b72b-49b8-b6a6-131ecaed6ace",
   "metadata": {},
   "outputs": [
    {
     "name": "stdout",
     "output_type": "stream",
     "text": [
      "The divison is not possible due the error>> division by zero\n"
     ]
    }
   ],
   "source": [
    "#handle multiple exceptions in separate blocks\n",
    "try:\n",
    "    10/0\n",
    "except ZeroDivisionError as e:\n",
    "    print(\"The divison is not possible due the error>>\", e)\n",
    "except TypeError as e:\n",
    "    print(\"This is value error>>\", e)"
   ]
  },
  {
   "cell_type": "code",
   "execution_count": 27,
   "id": "a0e38464-b54e-4f4f-aedf-e89850bb1c99",
   "metadata": {},
   "outputs": [
    {
     "ename": "TypeError",
     "evalue": "unsupported operand type(s) for /: 'int' and 'str'",
     "output_type": "error",
     "traceback": [
      "\u001b[0;31m---------------------------------------------------------------------------\u001b[0m",
      "\u001b[0;31mTypeError\u001b[0m                                 Traceback (most recent call last)",
      "Cell \u001b[0;32mIn[27], line 1\u001b[0m\n\u001b[0;32m----> 1\u001b[0m \u001b[38;5;241;43m10\u001b[39;49m\u001b[38;5;241;43m/\u001b[39;49m\u001b[38;5;124;43m\"\u001b[39;49m\u001b[38;5;124;43msome string\u001b[39;49m\u001b[38;5;124;43m\"\u001b[39;49m\n",
      "\u001b[0;31mTypeError\u001b[0m: unsupported operand type(s) for /: 'int' and 'str'"
     ]
    }
   ],
   "source": [
    " 10/\"some string\""
   ]
  },
  {
   "cell_type": "code",
   "execution_count": 28,
   "id": "10cef283-4a7c-4ff6-b139-2842355df4b9",
   "metadata": {},
   "outputs": [
    {
     "name": "stdout",
     "output_type": "stream",
     "text": [
      "This is value error>> unsupported operand type(s) for /: 'int' and 'str'\n"
     ]
    }
   ],
   "source": [
    "try:\n",
    "    10/\"some string\"\n",
    "except ZeroDivisionError as e:\n",
    "    print(\"The divison is not possible due the error>>\", e)\n",
    "except TypeError as e:\n",
    "    print(\"This is value error>>\", e)"
   ]
  },
  {
   "cell_type": "code",
   "execution_count": 30,
   "id": "0bcdc508-86d2-442f-b955-1bd0c04fde00",
   "metadata": {},
   "outputs": [],
   "source": [
    "import csv"
   ]
  },
  {
   "cell_type": "code",
   "execution_count": 31,
   "id": "12f2ba02-5540-4c46-ab81-48167cee1805",
   "metadata": {},
   "outputs": [
    {
     "ename": "ModuleNotFoundError",
     "evalue": "No module named 'pwskills'",
     "output_type": "error",
     "traceback": [
      "\u001b[0;31m---------------------------------------------------------------------------\u001b[0m",
      "\u001b[0;31mModuleNotFoundError\u001b[0m                       Traceback (most recent call last)",
      "Cell \u001b[0;32mIn[31], line 1\u001b[0m\n\u001b[0;32m----> 1\u001b[0m \u001b[38;5;28;01mimport\u001b[39;00m \u001b[38;5;21;01mpwskills\u001b[39;00m\n",
      "\u001b[0;31mModuleNotFoundError\u001b[0m: No module named 'pwskills'"
     ]
    }
   ],
   "source": [
    "import pwskills"
   ]
  },
  {
   "cell_type": "code",
   "execution_count": 32,
   "id": "563da8a8-f4ef-4700-8c71-f0d65be20829",
   "metadata": {},
   "outputs": [
    {
     "name": "stdout",
     "output_type": "stream",
     "text": [
      "The module not found No module named 'pwskills'\n"
     ]
    }
   ],
   "source": [
    "try:\n",
    "    import pwskills\n",
    "except ModuleNotFoundError as e:\n",
    "    print(\"The module not found\", e)"
   ]
  },
  {
   "cell_type": "code",
   "execution_count": 33,
   "id": "0651c68b-caf8-4c23-abba-fbb1bbb15628",
   "metadata": {},
   "outputs": [
    {
     "ename": "NameError",
     "evalue": "name 'test' is not defined",
     "output_type": "error",
     "traceback": [
      "\u001b[0;31m---------------------------------------------------------------------------\u001b[0m",
      "\u001b[0;31mNameError\u001b[0m                                 Traceback (most recent call last)",
      "Cell \u001b[0;32mIn[33], line 1\u001b[0m\n\u001b[0;32m----> 1\u001b[0m \u001b[43mtest\u001b[49m()\n",
      "\u001b[0;31mNameError\u001b[0m: name 'test' is not defined"
     ]
    }
   ],
   "source": [
    "test()"
   ]
  },
  {
   "cell_type": "code",
   "execution_count": 34,
   "id": "c4d49d2a-3363-479c-ae3f-8c725ba9e0d5",
   "metadata": {},
   "outputs": [
    {
     "name": "stdout",
     "output_type": "stream",
     "text": [
      "name 'test' is not defined\n"
     ]
    }
   ],
   "source": [
    "try:\n",
    "    test()\n",
    "except NameError as e:\n",
    "    print(e)"
   ]
  },
  {
   "cell_type": "code",
   "execution_count": 35,
   "id": "6ccf1997-ad08-47d5-9bba-cd0f68da6f6d",
   "metadata": {},
   "outputs": [],
   "source": [
    "d = {\"name\": \"Ajay\", \"class\": \"ds\"}"
   ]
  },
  {
   "cell_type": "code",
   "execution_count": 36,
   "id": "d7dc144a-9e19-4cc2-8c63-f08f6a5abc65",
   "metadata": {},
   "outputs": [
    {
     "ename": "KeyError",
     "evalue": "'age'",
     "output_type": "error",
     "traceback": [
      "\u001b[0;31m---------------------------------------------------------------------------\u001b[0m",
      "\u001b[0;31mKeyError\u001b[0m                                  Traceback (most recent call last)",
      "Cell \u001b[0;32mIn[36], line 1\u001b[0m\n\u001b[0;32m----> 1\u001b[0m \u001b[43md\u001b[49m\u001b[43m[\u001b[49m\u001b[38;5;124;43m\"\u001b[39;49m\u001b[38;5;124;43mage\u001b[39;49m\u001b[38;5;124;43m\"\u001b[39;49m\u001b[43m]\u001b[49m\n",
      "\u001b[0;31mKeyError\u001b[0m: 'age'"
     ]
    }
   ],
   "source": [
    "d[\"age\"]"
   ]
  },
  {
   "cell_type": "code",
   "execution_count": 38,
   "id": "f607b001-ba48-4329-a5fb-75fa302e5907",
   "metadata": {},
   "outputs": [
    {
     "name": "stdout",
     "output_type": "stream",
     "text": [
      "The key is not found 'age'\n"
     ]
    }
   ],
   "source": [
    "try:\n",
    "    d = {\"name\": \"Ajay\", \"class\": \"ds\"}\n",
    "    d[\"age\"]\n",
    "except KeyError as e:\n",
    "    print(\"The key is not found\", e)"
   ]
  },
  {
   "cell_type": "code",
   "execution_count": 39,
   "id": "d8b705af-42be-48a4-9a9d-7d14d4813bca",
   "metadata": {},
   "outputs": [
    {
     "ename": "IndexError",
     "evalue": "list index out of range",
     "output_type": "error",
     "traceback": [
      "\u001b[0;31m---------------------------------------------------------------------------\u001b[0m",
      "\u001b[0;31mIndexError\u001b[0m                                Traceback (most recent call last)",
      "Cell \u001b[0;32mIn[39], line 2\u001b[0m\n\u001b[1;32m      1\u001b[0m l \u001b[38;5;241m=\u001b[39m [\u001b[38;5;241m1\u001b[39m, \u001b[38;5;241m2\u001b[39m, \u001b[38;5;241m3\u001b[39m, \u001b[38;5;241m4\u001b[39m]\n\u001b[0;32m----> 2\u001b[0m \u001b[43ml\u001b[49m\u001b[43m[\u001b[49m\u001b[38;5;241;43m4\u001b[39;49m\u001b[43m]\u001b[49m\n",
      "\u001b[0;31mIndexError\u001b[0m: list index out of range"
     ]
    }
   ],
   "source": [
    "l = [1, 2, 3, 4]\n",
    "l[4]"
   ]
  },
  {
   "cell_type": "code",
   "execution_count": 40,
   "id": "c3d0748b-0045-4f38-9832-0237f1f1fb77",
   "metadata": {},
   "outputs": [
    {
     "name": "stdout",
     "output_type": "stream",
     "text": [
      "The index not found list index out of range\n"
     ]
    }
   ],
   "source": [
    "try:\n",
    "    l = [1, 2, 3, 4]\n",
    "    l[4]\n",
    "except IndexError as e:\n",
    "    print(\"The index not found\", e)"
   ]
  },
  {
   "cell_type": "code",
   "execution_count": 41,
   "id": "72a9cfd1-5601-4753-9b00-10ad49f3dce4",
   "metadata": {},
   "outputs": [
    {
     "ename": "FileNotFoundError",
     "evalue": "[Errno 2] No such file or directory: 'example.txt'",
     "output_type": "error",
     "traceback": [
      "\u001b[0;31m---------------------------------------------------------------------------\u001b[0m",
      "\u001b[0;31mFileNotFoundError\u001b[0m                         Traceback (most recent call last)",
      "Cell \u001b[0;32mIn[41], line 1\u001b[0m\n\u001b[0;32m----> 1\u001b[0m f \u001b[38;5;241m=\u001b[39m \u001b[38;5;28;43mopen\u001b[39;49m\u001b[43m(\u001b[49m\u001b[38;5;124;43m\"\u001b[39;49m\u001b[38;5;124;43mexample.txt\u001b[39;49m\u001b[38;5;124;43m\"\u001b[39;49m\u001b[43m,\u001b[49m\u001b[43m \u001b[49m\u001b[38;5;124;43m\"\u001b[39;49m\u001b[38;5;124;43mr\u001b[39;49m\u001b[38;5;124;43m\"\u001b[39;49m\u001b[43m)\u001b[49m\n",
      "File \u001b[0;32m/opt/conda/lib/python3.10/site-packages/IPython/core/interactiveshell.py:282\u001b[0m, in \u001b[0;36m_modified_open\u001b[0;34m(file, *args, **kwargs)\u001b[0m\n\u001b[1;32m    275\u001b[0m \u001b[38;5;28;01mif\u001b[39;00m file \u001b[38;5;129;01min\u001b[39;00m {\u001b[38;5;241m0\u001b[39m, \u001b[38;5;241m1\u001b[39m, \u001b[38;5;241m2\u001b[39m}:\n\u001b[1;32m    276\u001b[0m     \u001b[38;5;28;01mraise\u001b[39;00m \u001b[38;5;167;01mValueError\u001b[39;00m(\n\u001b[1;32m    277\u001b[0m         \u001b[38;5;124mf\u001b[39m\u001b[38;5;124m\"\u001b[39m\u001b[38;5;124mIPython won\u001b[39m\u001b[38;5;124m'\u001b[39m\u001b[38;5;124mt let you open fd=\u001b[39m\u001b[38;5;132;01m{\u001b[39;00mfile\u001b[38;5;132;01m}\u001b[39;00m\u001b[38;5;124m by default \u001b[39m\u001b[38;5;124m\"\u001b[39m\n\u001b[1;32m    278\u001b[0m         \u001b[38;5;124m\"\u001b[39m\u001b[38;5;124mas it is likely to crash IPython. If you know what you are doing, \u001b[39m\u001b[38;5;124m\"\u001b[39m\n\u001b[1;32m    279\u001b[0m         \u001b[38;5;124m\"\u001b[39m\u001b[38;5;124myou can use builtins\u001b[39m\u001b[38;5;124m'\u001b[39m\u001b[38;5;124m open.\u001b[39m\u001b[38;5;124m\"\u001b[39m\n\u001b[1;32m    280\u001b[0m     )\n\u001b[0;32m--> 282\u001b[0m \u001b[38;5;28;01mreturn\u001b[39;00m \u001b[43mio_open\u001b[49m\u001b[43m(\u001b[49m\u001b[43mfile\u001b[49m\u001b[43m,\u001b[49m\u001b[43m \u001b[49m\u001b[38;5;241;43m*\u001b[39;49m\u001b[43margs\u001b[49m\u001b[43m,\u001b[49m\u001b[43m \u001b[49m\u001b[38;5;241;43m*\u001b[39;49m\u001b[38;5;241;43m*\u001b[39;49m\u001b[43mkwargs\u001b[49m\u001b[43m)\u001b[49m\n",
      "\u001b[0;31mFileNotFoundError\u001b[0m: [Errno 2] No such file or directory: 'example.txt'"
     ]
    }
   ],
   "source": [
    "f = open(\"example.txt\", \"r\")"
   ]
  },
  {
   "cell_type": "code",
   "execution_count": 42,
   "id": "9b577868-9eb1-4dde-a590-d33c45cbf46d",
   "metadata": {},
   "outputs": [
    {
     "name": "stdout",
     "output_type": "stream",
     "text": [
      "The following file was not created, please re run the code [Errno 2] No such file or directory: 'example.txt'\n"
     ]
    }
   ],
   "source": [
    "try:\n",
    "    f = open(\"example.txt\", \"r\")\n",
    "    f.read()\n",
    "except FileNotFoundError as e:\n",
    "    print(\"The following file was not created, please re run the code\", e)"
   ]
  },
  {
   "cell_type": "code",
   "execution_count": 44,
   "id": "59005e39-3c54-4db6-8479-46c529191dee",
   "metadata": {},
   "outputs": [
    {
     "name": "stdout",
     "output_type": "stream",
     "text": [
      "first msg-----File is not opened due to [Errno 2] No such file or directory: 'example.txt'\n"
     ]
    }
   ],
   "source": [
    "#sometime you will not know what could be the possible exceptions\n",
    "try:\n",
    "    f = open(\"example.txt\", \"r\")\n",
    "    f.read()\n",
    "except Exception as e: #parent class\n",
    "    print(\"first msg-----File is not opened due to\", e)\n",
    "except FileNotFoundError as e:\n",
    "    print(\"The following file was not created, please re run the code\", e)"
   ]
  },
  {
   "cell_type": "code",
   "execution_count": 45,
   "id": "3dd24f4f-cf33-479f-8792-d378634e3d13",
   "metadata": {},
   "outputs": [
    {
     "name": "stdout",
     "output_type": "stream",
     "text": [
      "The following file was not created, please re run the code [Errno 2] No such file or directory: 'example.txt'\n"
     ]
    }
   ],
   "source": [
    "#best practice\n",
    "#in case you know specific exception keep that block first \n",
    "#and the block of generic exception after that\n",
    "\n",
    "try:\n",
    "    f = open(\"example.txt\", \"r\")\n",
    "    f.read()\n",
    "except FileNotFoundError as e:\n",
    "    print(\"The following file was not created, please re run the code\", e)\n",
    "except Exception as e: #parent class\n",
    "    print(\"first msg-----File is not opened due to\", e)"
   ]
  },
  {
   "cell_type": "code",
   "execution_count": 47,
   "id": "40d82b0a-3dff-47e7-bd50-7a3f7cc64839",
   "metadata": {},
   "outputs": [
    {
     "name": "stdout",
     "output_type": "stream",
     "text": [
      "The error is unsupported operand type(s) for /: 'int' and 'str'\n"
     ]
    }
   ],
   "source": [
    "#anothe rexample of above case\n",
    "try:\n",
    "    10/\"string\"\n",
    "except ZeroDivisionError as e:\n",
    "    print(\"The divison is not possible due the error>>\", e)\n",
    "except Exception as e:\n",
    "    print(\"The error is\", e)"
   ]
  },
  {
   "cell_type": "code",
   "execution_count": 49,
   "id": "685ed759-8164-41da-b3cf-ce07ac9bf45b",
   "metadata": {},
   "outputs": [],
   "source": [
    "#best practice>> always try to log\n",
    "import logging\n",
    "logging.basicConfig(filename = \"program.log\", level = logging.DEBUG)\n",
    "try:\n",
    "    f = open(\"example.txt\", \"r\")\n",
    "    f.read()\n",
    "except FileNotFoundError as e:\n",
    "    logging.error(f\"My file was not found {e}\")"
   ]
  },
  {
   "cell_type": "code",
   "execution_count": 2,
   "id": "506a1ed8-f069-4136-b833-458260266c7b",
   "metadata": {},
   "outputs": [],
   "source": [
    "import logging\n",
    "logging.basicConfig(filename = \"program1.log\", level = logging.DEBUG)\n",
    "try:\n",
    "    10/0\n",
    "except ZeroDivisionError as e:\n",
    "    logging.error(f\"My file was not found {e}\")"
   ]
  },
  {
   "cell_type": "code",
   "execution_count": 4,
   "id": "ca585a8a-f7bd-4515-a25d-8f6bc41a77a3",
   "metadata": {},
   "outputs": [],
   "source": [
    "#putting exception handling in a function\n",
    "def test(file):\n",
    "    try:\n",
    "        f = open(file, \"r\")\n",
    "        f.read()\n",
    "    except FileNotFoundError as e:\n",
    "        print(f\"My file was not found {e}\")"
   ]
  },
  {
   "cell_type": "code",
   "execution_count": 5,
   "id": "73012f19-26e4-4c33-b6a9-57d216115cc3",
   "metadata": {},
   "outputs": [
    {
     "name": "stdout",
     "output_type": "stream",
     "text": [
      "My file was not found [Errno 2] No such file or directory: 'example.txt'\n"
     ]
    }
   ],
   "source": [
    "test(\"example.txt\")"
   ]
  },
  {
   "cell_type": "code",
   "execution_count": 8,
   "id": "1a0df4d1-8751-4e4d-8766-8efa1805a34c",
   "metadata": {},
   "outputs": [
    {
     "name": "stdout",
     "output_type": "stream",
     "text": [
      "The divison is not possible due the error>> division by zero\n"
     ]
    }
   ],
   "source": [
    "#do not try to use unnecessary exception/multiple exception\n",
    "#exmple:: filenotfound exception is never possible in divison\n",
    "#so no point to handle filenotfound error here\n",
    "#instead you can handle typeError or use generic excepction class\n",
    "try:\n",
    "    10/0\n",
    "except ZeroDivisionError as e:\n",
    "    print(\"The divison is not possible due the error>>\", e)\n",
    "except FileNotFoundError as e:\n",
    "    print(\"The error is\", e)"
   ]
  },
  {
   "cell_type": "code",
   "execution_count": 9,
   "id": "f82bd678-1182-4a54-9560-548fec044190",
   "metadata": {},
   "outputs": [],
   "source": [
    "#zero divion error doesnt make any sense here\n",
    "def test(file):\n",
    "    try:\n",
    "        f = open(file, \"r\")\n",
    "        f.read()\n",
    "    except FileNotFoundError as e:\n",
    "        print(f\"My file was not found {e}\")\n",
    "    except ZeroDivisionError as e:#unnecesary\n",
    "        print(\"The divison is not possible due the error>>\", e) "
   ]
  },
  {
   "cell_type": "code",
   "execution_count": 10,
   "id": "85302085-7c22-4945-a026-2e48622de327",
   "metadata": {},
   "outputs": [
    {
     "name": "stdout",
     "output_type": "stream",
     "text": [
      "My file was not found [Errno 2] No such file or directory: 'example.txt'\n"
     ]
    }
   ],
   "source": [
    "test(\"example.txt\")"
   ]
  },
  {
   "cell_type": "code",
   "execution_count": 11,
   "id": "0dd0d8c5-133c-4a51-885e-bfa92601ad38",
   "metadata": {},
   "outputs": [],
   "source": [
    "#best practice:: give proper documentation in docstring/proper comments in your code\n",
    "def test(file):\n",
    "    \"\"\"\n",
    "    This function is about is reading a file.\n",
    "    \n",
    "    Args:\n",
    "        input: file(str)\n",
    "        output: text(str)\n",
    "    \"\"\"\n",
    "    try:\n",
    "        f = open(file, \"r\")\n",
    "        f.read()\n",
    "    except FileNotFoundError as e:\n",
    "        print(f\"My file was not found {e}\")\n",
    "    #unnecesary exception\n",
    "    except ZeroDivisionError as e:\n",
    "        print(\"The divison is not possible due the error>>\", e) "
   ]
  },
  {
   "cell_type": "code",
   "execution_count": 12,
   "id": "bce5e379-845e-4fea-9da0-d620490e2cef",
   "metadata": {},
   "outputs": [
    {
     "name": "stdout",
     "output_type": "stream",
     "text": [
      "My file was not found [Errno 2] No such file or directory: 'example.txt'\n"
     ]
    }
   ],
   "source": [
    "test(\"example.txt\")"
   ]
  },
  {
   "cell_type": "code",
   "execution_count": 22,
   "id": "0459463a-d077-4a7c-97cd-1da6ccf01ea0",
   "metadata": {},
   "outputs": [],
   "source": [
    "#best practice>> always clean up the resources using finally\n",
    "\n",
    "\n",
    "def test(file):\n",
    "    \"\"\"\n",
    "    This function is about is reading a file.\n",
    "    \n",
    "    Args:\n",
    "        input: file(str)\n",
    "        output: text(str)\n",
    "    \"\"\"\n",
    "    try:\n",
    "        f = open(file, \"w\")\n",
    "        f.write(\"Anything being written\")\n",
    "    except FileNotFoundError as e:\n",
    "        print(f\"My file was not found {e}\")\n",
    "    finally:\n",
    "        f.close()"
   ]
  },
  {
   "cell_type": "code",
   "execution_count": 23,
   "id": "9c449ce1-7fce-45f9-8c5d-c89379a35565",
   "metadata": {},
   "outputs": [],
   "source": [
    "test(\"example.txt\")"
   ]
  },
  {
   "cell_type": "code",
   "execution_count": null,
   "id": "2e3a2c6e-56ce-4191-aefa-81a385cc3513",
   "metadata": {},
   "outputs": [],
   "source": []
  }
 ],
 "metadata": {
  "kernelspec": {
   "display_name": "Python 3 (ipykernel)",
   "language": "python",
   "name": "python3"
  },
  "language_info": {
   "codemirror_mode": {
    "name": "ipython",
    "version": 3
   },
   "file_extension": ".py",
   "mimetype": "text/x-python",
   "name": "python",
   "nbconvert_exporter": "python",
   "pygments_lexer": "ipython3",
   "version": "3.10.8"
  }
 },
 "nbformat": 4,
 "nbformat_minor": 5
}
