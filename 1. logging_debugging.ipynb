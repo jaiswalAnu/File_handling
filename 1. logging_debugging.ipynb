{
 "cells": [
  {
   "cell_type": "code",
   "execution_count": 1,
   "id": "2ba5dc79-26c1-4908-96f1-1943371a6fbd",
   "metadata": {},
   "outputs": [],
   "source": [
    "#debugging>>it is the process of identifying and fixing bugs/issues in your code\n",
    "#debugging involves >> breaking the code(checkpoint), executing the code, inspecting the variables using print statment"
   ]
  },
  {
   "cell_type": "code",
   "execution_count": 9,
   "id": "b64a7e2f-9111-4032-b639-b0848ebfc359",
   "metadata": {},
   "outputs": [],
   "source": [
    "def divide(a, b):\n",
    "    return a/b"
   ]
  },
  {
   "cell_type": "code",
   "execution_count": 10,
   "id": "2bd106af-31d9-46db-afc4-b14bba6a8d3e",
   "metadata": {},
   "outputs": [
    {
     "data": {
      "text/plain": [
       "5.0"
      ]
     },
     "execution_count": 10,
     "metadata": {},
     "output_type": "execute_result"
    }
   ],
   "source": [
    "divide(10, 2)"
   ]
  },
  {
   "cell_type": "code",
   "execution_count": 11,
   "id": "4e941bc0-8ed0-4ff3-b834-e0892cc7195c",
   "metadata": {},
   "outputs": [
    {
     "data": {
      "text/plain": [
       "4.0"
      ]
     },
     "execution_count": 11,
     "metadata": {},
     "output_type": "execute_result"
    }
   ],
   "source": [
    "divide(12, 3)"
   ]
  },
  {
   "cell_type": "code",
   "execution_count": null,
   "id": "3019f146-8cf6-4c27-bd31-de3a33a69c02",
   "metadata": {},
   "outputs": [],
   "source": [
    "divide(10, 0)"
   ]
  },
  {
   "cell_type": "code",
   "execution_count": 14,
   "id": "e24ba254-b728-4eaa-965e-dbbc07467329",
   "metadata": {},
   "outputs": [
    {
     "ename": "ZeroDivisionError",
     "evalue": "division by zero",
     "output_type": "error",
     "traceback": [
      "\u001b[0;31m---------------------------------------------------------------------------\u001b[0m",
      "\u001b[0;31mZeroDivisionError\u001b[0m                         Traceback (most recent call last)",
      "Cell \u001b[0;32mIn[14], line 2\u001b[0m\n\u001b[1;32m      1\u001b[0m \u001b[38;5;28;01mfor\u001b[39;00m i \u001b[38;5;129;01min\u001b[39;00m \u001b[38;5;28mrange\u001b[39m(\u001b[38;5;241m-\u001b[39m\u001b[38;5;241m10\u001b[39m, \u001b[38;5;241m10\u001b[39m):\n\u001b[0;32m----> 2\u001b[0m     \u001b[43mdivide\u001b[49m\u001b[43m(\u001b[49m\u001b[43mi\u001b[49m\u001b[43m,\u001b[49m\u001b[43m \u001b[49m\u001b[43mi\u001b[49m\u001b[38;5;241;43m+\u001b[39;49m\u001b[38;5;241;43m1\u001b[39;49m\u001b[43m)\u001b[49m\n",
      "Cell \u001b[0;32mIn[9], line 2\u001b[0m, in \u001b[0;36mdivide\u001b[0;34m(a, b)\u001b[0m\n\u001b[1;32m      1\u001b[0m \u001b[38;5;28;01mdef\u001b[39;00m \u001b[38;5;21mdivide\u001b[39m(a, b):\n\u001b[0;32m----> 2\u001b[0m     \u001b[38;5;28;01mreturn\u001b[39;00m \u001b[43ma\u001b[49m\u001b[38;5;241;43m/\u001b[39;49m\u001b[43mb\u001b[49m\n",
      "\u001b[0;31mZeroDivisionError\u001b[0m: division by zero"
     ]
    }
   ],
   "source": [
    "for i in range(-10, 10):\n",
    "    divide(i, i+1)\n",
    "#you have called divide function many times\n",
    "#at somewhere its throwing error, but where?\n",
    "#You have to debug the code >> for what value of a and b parameter, its throwing error"
   ]
  },
  {
   "cell_type": "raw",
   "id": "cba1cdef-3fcc-4add-85aa-f5e6ce6f24de",
   "metadata": {},
   "source": [
    "#how to debug:\n",
    "breaking the code(checkpoint), \n",
    "executing the code, \n",
    "inspecting the variables using print statment"
   ]
  },
  {
   "cell_type": "code",
   "execution_count": 15,
   "id": "9cf847c8-b547-4835-b946-f87a44b692a9",
   "metadata": {},
   "outputs": [
    {
     "ename": "ZeroDivisionError",
     "evalue": "division by zero",
     "output_type": "error",
     "traceback": [
      "\u001b[0;31m---------------------------------------------------------------------------\u001b[0m",
      "\u001b[0;31mZeroDivisionError\u001b[0m                         Traceback (most recent call last)",
      "Cell \u001b[0;32mIn[15], line 5\u001b[0m\n\u001b[1;32m      2\u001b[0m     \u001b[38;5;28;01mreturn\u001b[39;00m a\u001b[38;5;241m/\u001b[39mb\n\u001b[1;32m      4\u001b[0m \u001b[38;5;28;01mfor\u001b[39;00m i \u001b[38;5;129;01min\u001b[39;00m \u001b[38;5;28mrange\u001b[39m(\u001b[38;5;241m-\u001b[39m\u001b[38;5;241m10\u001b[39m, \u001b[38;5;241m10\u001b[39m):\n\u001b[0;32m----> 5\u001b[0m     \u001b[43mdivide\u001b[49m\u001b[43m(\u001b[49m\u001b[43mi\u001b[49m\u001b[43m,\u001b[49m\u001b[43m \u001b[49m\u001b[43mi\u001b[49m\u001b[38;5;241;43m+\u001b[39;49m\u001b[38;5;241;43m1\u001b[39;49m\u001b[43m)\u001b[49m\n\u001b[1;32m      6\u001b[0m \u001b[38;5;66;03m#breaking the code>> here we understand that there are two steps involved\u001b[39;00m\n\u001b[1;32m      7\u001b[0m \u001b[38;5;66;03m#first a loop and second calling divide function in loop\u001b[39;00m\n",
      "Cell \u001b[0;32mIn[15], line 2\u001b[0m, in \u001b[0;36mdivide\u001b[0;34m(a, b)\u001b[0m\n\u001b[1;32m      1\u001b[0m \u001b[38;5;28;01mdef\u001b[39;00m \u001b[38;5;21mdivide\u001b[39m(a, b):\n\u001b[0;32m----> 2\u001b[0m     \u001b[38;5;28;01mreturn\u001b[39;00m \u001b[43ma\u001b[49m\u001b[38;5;241;43m/\u001b[39;49m\u001b[43mb\u001b[49m\n",
      "\u001b[0;31mZeroDivisionError\u001b[0m: division by zero"
     ]
    }
   ],
   "source": [
    "def divide(a, b):\n",
    "    return a/b\n",
    "\n",
    "for i in range(-10, 10):\n",
    "    divide(i, i+1)\n",
    "#breaking the code>> logcally> here we understand that there are two steps involved\n",
    "#break the code it terms of execution as well using return statments or print statment\n",
    "#first a loop and second calling divide function in loop"
   ]
  },
  {
   "cell_type": "code",
   "execution_count": 16,
   "id": "88c81f6b-fd96-4b11-b56a-f31362a88b4f",
   "metadata": {},
   "outputs": [
    {
     "name": "stdout",
     "output_type": "stream",
     "text": [
      "-10 -9\n",
      "-9 -8\n",
      "-8 -7\n",
      "-7 -6\n",
      "-6 -5\n",
      "-5 -4\n",
      "-4 -3\n",
      "-3 -2\n",
      "-2 -1\n",
      "-1 0\n"
     ]
    },
    {
     "ename": "ZeroDivisionError",
     "evalue": "division by zero",
     "output_type": "error",
     "traceback": [
      "\u001b[0;31m---------------------------------------------------------------------------\u001b[0m",
      "\u001b[0;31mZeroDivisionError\u001b[0m                         Traceback (most recent call last)",
      "Cell \u001b[0;32mIn[16], line 7\u001b[0m\n\u001b[1;32m      5\u001b[0m \u001b[38;5;28;01mfor\u001b[39;00m i \u001b[38;5;129;01min\u001b[39;00m \u001b[38;5;28mrange\u001b[39m(\u001b[38;5;241m-\u001b[39m\u001b[38;5;241m10\u001b[39m, \u001b[38;5;241m10\u001b[39m):\n\u001b[1;32m      6\u001b[0m     \u001b[38;5;28mprint\u001b[39m(i, i\u001b[38;5;241m+\u001b[39m\u001b[38;5;241m1\u001b[39m)\n\u001b[0;32m----> 7\u001b[0m     \u001b[43mdivide\u001b[49m\u001b[43m(\u001b[49m\u001b[43mi\u001b[49m\u001b[43m,\u001b[49m\u001b[43m \u001b[49m\u001b[43mi\u001b[49m\u001b[38;5;241;43m+\u001b[39;49m\u001b[38;5;241;43m1\u001b[39;49m\u001b[43m)\u001b[49m\n",
      "Cell \u001b[0;32mIn[16], line 3\u001b[0m, in \u001b[0;36mdivide\u001b[0;34m(a, b)\u001b[0m\n\u001b[1;32m      2\u001b[0m \u001b[38;5;28;01mdef\u001b[39;00m \u001b[38;5;21mdivide\u001b[39m(a, b):\n\u001b[0;32m----> 3\u001b[0m     \u001b[38;5;28;01mreturn\u001b[39;00m \u001b[43ma\u001b[49m\u001b[38;5;241;43m/\u001b[39;49m\u001b[43mb\u001b[49m\n",
      "\u001b[0;31mZeroDivisionError\u001b[0m: division by zero"
     ]
    }
   ],
   "source": [
    "#using print statement to debug\n",
    "def divide(a, b):\n",
    "    return a/b\n",
    "\n",
    "for i in range(-10, 10):\n",
    "    print(i, i+1)\n",
    "    divide(i, i+1)"
   ]
  },
  {
   "cell_type": "code",
   "execution_count": 17,
   "id": "91408edb-5088-4a3f-a637-25b08ace2161",
   "metadata": {},
   "outputs": [
    {
     "name": "stdout",
     "output_type": "stream",
     "text": [
      "-10 -9\n",
      "-9 -8\n",
      "-8 -7\n",
      "-7 -6\n",
      "-6 -5\n",
      "-5 -4\n",
      "-4 -3\n",
      "-3 -2\n",
      "-2 -1\n",
      "-1 0\n"
     ]
    },
    {
     "ename": "ZeroDivisionError",
     "evalue": "division by zero",
     "output_type": "error",
     "traceback": [
      "\u001b[0;31m---------------------------------------------------------------------------\u001b[0m",
      "\u001b[0;31mZeroDivisionError\u001b[0m                         Traceback (most recent call last)",
      "Cell \u001b[0;32mIn[17], line 8\u001b[0m\n\u001b[1;32m      4\u001b[0m     \u001b[38;5;28;01mreturn\u001b[39;00m a\u001b[38;5;241m/\u001b[39mb\n\u001b[1;32m      6\u001b[0m \u001b[38;5;28;01mfor\u001b[39;00m i \u001b[38;5;129;01min\u001b[39;00m \u001b[38;5;28mrange\u001b[39m(\u001b[38;5;241m-\u001b[39m\u001b[38;5;241m10\u001b[39m, \u001b[38;5;241m10\u001b[39m):\n\u001b[1;32m      7\u001b[0m     \u001b[38;5;66;03m# print(i, i+1)\u001b[39;00m\n\u001b[0;32m----> 8\u001b[0m     \u001b[43mdivide\u001b[49m\u001b[43m(\u001b[49m\u001b[43mi\u001b[49m\u001b[43m,\u001b[49m\u001b[43m \u001b[49m\u001b[43mi\u001b[49m\u001b[38;5;241;43m+\u001b[39;49m\u001b[38;5;241;43m1\u001b[39;49m\u001b[43m)\u001b[49m\n",
      "Cell \u001b[0;32mIn[17], line 4\u001b[0m, in \u001b[0;36mdivide\u001b[0;34m(a, b)\u001b[0m\n\u001b[1;32m      2\u001b[0m \u001b[38;5;28;01mdef\u001b[39;00m \u001b[38;5;21mdivide\u001b[39m(a, b):\n\u001b[1;32m      3\u001b[0m     \u001b[38;5;28mprint\u001b[39m(a, b)\n\u001b[0;32m----> 4\u001b[0m     \u001b[38;5;28;01mreturn\u001b[39;00m \u001b[43ma\u001b[49m\u001b[38;5;241;43m/\u001b[39;49m\u001b[43mb\u001b[49m\n",
      "\u001b[0;31mZeroDivisionError\u001b[0m: division by zero"
     ]
    }
   ],
   "source": [
    "#using another print statment inside function\n",
    "def divide(a, b):\n",
    "    print(a, b)\n",
    "    return a/b\n",
    "\n",
    "for i in range(-10, 10):\n",
    "    # print(i, i+1)\n",
    "    divide(i, i+1)"
   ]
  },
  {
   "cell_type": "code",
   "execution_count": 20,
   "id": "fbbd767a-f98a-48ff-8a75-4d245f5f620e",
   "metadata": {},
   "outputs": [
    {
     "name": "stdout",
     "output_type": "stream",
     "text": [
      "-10 -9\n",
      "-9 -8\n",
      "-8 -7\n",
      "-7 -6\n",
      "-6 -5\n",
      "-5 -4\n",
      "-4 -3\n",
      "-3 -2\n",
      "-2 -1\n",
      "-1 0\n",
      "zero divion error\n",
      "0 1\n",
      "1 2\n",
      "2 3\n",
      "3 4\n",
      "4 5\n",
      "5 6\n",
      "6 7\n",
      "7 8\n",
      "8 9\n",
      "9 10\n"
     ]
    }
   ],
   "source": [
    "#from print statment you understand that when b is 0, it throws the error\n",
    "def divide(a, b):\n",
    "    print(a, b)\n",
    "    #breaking the code in terms of execution\n",
    "    if b == 0:\n",
    "        print(\"zero divion error\")\n",
    "        return \n",
    "    return a/b\n",
    "\n",
    "for i in range(-10, 10):\n",
    "    # print(i, i+1)\n",
    "    divide(i, i+1)"
   ]
  },
  {
   "cell_type": "code",
   "execution_count": 21,
   "id": "a70b246d-45e6-4fc0-b89b-8701d5711f8b",
   "metadata": {},
   "outputs": [],
   "source": [
    "#print statment is not a pythonic way to debug>>print statments are not efficient\n",
    "#print statment is good for simple scripts but not complex\n",
    "#in console/terminal all the print statments will be lost\n",
    "#you use logging instead of print stament"
   ]
  },
  {
   "cell_type": "code",
   "execution_count": 22,
   "id": "f17e2bf7-d556-4e86-9ed5-a2cfde045fa7",
   "metadata": {},
   "outputs": [],
   "source": [
    "#logging>> it records the state and flow of your program/code/software\n",
    "#it is useful for understanding, monitoring and debugging of your code\n",
    "#it shows how program behaves over time\n",
    "\n",
    "\n",
    "#Analogy>> diary entry since childhood to now>>you will understand how you evolved\n",
    "#similrly in complex scripts to understand how your code is changing the result over time, you can log the specific steps"
   ]
  },
  {
   "cell_type": "raw",
   "id": "d95d06c8-8cb3-44a0-94f2-120183f3c88f",
   "metadata": {},
   "source": [
    "#Theoretical use case explanation\n",
    "#see the different steps of coding below\n",
    "#step1>> remove some element of list\n",
    "#step 2>>captialize>>upper case\n",
    "#step 3>> remove metropolitan city\n",
    "#step 4>>lower case \n",
    "if after step 3 the list becomes empty, step 4 can throw error, so you can log the result of step 3 to debug"
   ]
  },
  {
   "cell_type": "code",
   "execution_count": 23,
   "id": "15226fe9-5c5d-493c-b414-53ae8f29d350",
   "metadata": {},
   "outputs": [],
   "source": [
    "#logging supports different levels of logging which helps to categorize messages based on their severity\n",
    "#analogy>> different level of severity if terror attack>>can go to emergency\n",
    "#similarly in logging we have different levels"
   ]
  },
  {
   "cell_type": "code",
   "execution_count": 24,
   "id": "1f94a28a-4741-4fff-bff7-dd4356768a4d",
   "metadata": {},
   "outputs": [],
   "source": [
    "import logging"
   ]
  },
  {
   "cell_type": "code",
   "execution_count": 25,
   "id": "c6ec2d3c-4581-4081-be7e-aae7a15501c2",
   "metadata": {},
   "outputs": [],
   "source": [
    "logging.basicConfig(filename = 'test.log', level = logging.INFO)"
   ]
  },
  {
   "cell_type": "code",
   "execution_count": 26,
   "id": "5f0ff827-40d3-40d7-b08b-5d809ab49f25",
   "metadata": {},
   "outputs": [],
   "source": [
    "logging.info(\"This is my normal information about the software\")"
   ]
  },
  {
   "cell_type": "code",
   "execution_count": 27,
   "id": "6d378efa-af7d-4332-bff7-8bfd50f341cb",
   "metadata": {},
   "outputs": [],
   "source": [
    "logging.warning(\"There can be empty list here\")"
   ]
  },
  {
   "cell_type": "code",
   "execution_count": 28,
   "id": "074e55e2-424c-4924-a010-0a760f75d575",
   "metadata": {},
   "outputs": [],
   "source": [
    "logging.debug(\"The length of list is\")"
   ]
  },
  {
   "cell_type": "code",
   "execution_count": 29,
   "id": "d4aa759c-5459-49ec-8183-74c70aa95217",
   "metadata": {},
   "outputs": [],
   "source": [
    "logging .error(\"Some error has happened\")"
   ]
  },
  {
   "cell_type": "code",
   "execution_count": 30,
   "id": "eeb90f49-1a6e-4c08-9bde-2f96f1cde150",
   "metadata": {},
   "outputs": [],
   "source": [
    "logging.critical(\"The software has stopped running\")"
   ]
  },
  {
   "cell_type": "code",
   "execution_count": 32,
   "id": "b171f262-db96-40c1-911f-bb50831b58da",
   "metadata": {},
   "outputs": [],
   "source": [
    "logging.shutdown()"
   ]
  },
  {
   "cell_type": "raw",
   "id": "78d6c108-5efb-4cc5-85a9-deeed722b56a",
   "metadata": {},
   "source": [
    "#NOSET level is not used\n",
    "1. DEBUG>>lowest level of logging. To give detailed information of any variable, msg, while doing debugging\n",
    "2. INFO >> This is used to convey that the code is working as expected\n",
    "#example \"Data analysis is completed\"\n",
    "3. WARNING>>Used to indicate that something unexpected happend or potential issue in the code\n",
    "4. ERROR > Serious problem with some function\n",
    "5. CRITICAL>> Termination of program/code/software\n",
    "\n",
    "\n",
    "#The above level of logging is executed in the same order>> debug being lowest priority and critical being highest priority\n",
    "#while defining level in logging.basicConfig, from that level the logs will be logged or in other words the log level priority will start from that level which is used to initialise the logging\n",
    "\n",
    "#example>>> if you initialise with WARNING then only warning, error, critical msgs will le logged. debug and info will not be logged"
   ]
  },
  {
   "cell_type": "code",
   "execution_count": 1,
   "id": "3ce45738-159a-4239-b08c-26746b4c398b",
   "metadata": {},
   "outputs": [],
   "source": [
    "import logging\n",
    "logging.basicConfig(filename = \"test_new.log\", level = logging.DEBUG, format = '%(asctime)s %(message)s')"
   ]
  },
  {
   "cell_type": "code",
   "execution_count": 2,
   "id": "77802fe8-54e7-4e33-ac3b-721fde11edaf",
   "metadata": {},
   "outputs": [],
   "source": [
    "logging.debug(\"This msg is for debugging\")\n",
    "logging.info(\"This is my info msg\")\n",
    "logging.warning(\"This is my warning msg\")\n",
    "logging.shutdown()"
   ]
  },
  {
   "cell_type": "code",
   "execution_count": 1,
   "id": "0df3c5a6-7248-4d4a-8f03-df1f2a75e1f2",
   "metadata": {},
   "outputs": [],
   "source": [
    "#say you want level name in logs as well\n",
    "\n",
    "import logging\n",
    "logging.basicConfig(filename = \"test_new1.log\", level = logging.DEBUG, format = '%(asctime)s %(levelname)s %(message)s')\n",
    "\n",
    "logging.debug(\"This msg is for debugging\")\n",
    "logging.info(\"This is my info msg\")\n",
    "logging.warning(\"This is my warning msg\")\n",
    "logging.shutdown()"
   ]
  },
  {
   "cell_type": "code",
   "execution_count": 1,
   "id": "0c22639c-6403-4265-8bfa-717702fbc7cf",
   "metadata": {},
   "outputs": [],
   "source": [
    "#use case with example\n",
    "import logging\n",
    "logging.basicConfig(filename = \"program.log\", level = logging.DEBUG, format = '%(asctime)s %(levelname)s %(message)s')\n"
   ]
  },
  {
   "cell_type": "code",
   "execution_count": 2,
   "id": "c463c0f6-aed8-4040-a597-62212a4a1abb",
   "metadata": {},
   "outputs": [],
   "source": [
    "#write a program to separate the integer and string in two lists separately\n",
    "l = [1, \"hello\", [2, \"world\"],4, [3, \"Python\"]]"
   ]
  },
  {
   "cell_type": "code",
   "execution_count": 3,
   "id": "4425eda6-95dd-430d-a424-0da7337f376f",
   "metadata": {},
   "outputs": [
    {
     "data": {
      "text/plain": [
       "[1, 'hello', [2, 'world'], 4, [3, 'Python']]"
      ]
     },
     "execution_count": 3,
     "metadata": {},
     "output_type": "execute_result"
    }
   ],
   "source": [
    "l"
   ]
  },
  {
   "cell_type": "code",
   "execution_count": 5,
   "id": "377aacf9-11be-4f3d-aa05-20d9d67492a7",
   "metadata": {},
   "outputs": [],
   "source": [
    "l1_int = []\n",
    "l2_str = []\n",
    "\n",
    "for i in l:\n",
    "    logging.info(f\"processing each element {i}\")\n",
    "    \n",
    "    if type(i) == list:\n",
    "        for j in i:\n",
    "            logging.info(f\"processing sublist element: {j}\")\n",
    "            if type(j) == int:\n",
    "                l1_int.append(j)\n",
    "    elif type(i) == int:\n",
    "        l1_int.append(i)\n",
    "    else:\n",
    "        l2_str.append(i)\n",
    "logging.info(f\"The result is : {l1_int}, {l2_str}\")\n",
    "logging.shutdown()"
   ]
  },
  {
   "cell_type": "code",
   "execution_count": null,
   "id": "2f673b25-fba7-4eea-8e24-b6f303b2fae1",
   "metadata": {},
   "outputs": [],
   "source": [
    "#homework>> add else condition for sublist\n",
    "#Another program which finds a prime no from a given list of nos and use logging"
   ]
  }
 ],
 "metadata": {
  "kernelspec": {
   "display_name": "Python 3 (ipykernel)",
   "language": "python",
   "name": "python3"
  },
  "language_info": {
   "codemirror_mode": {
    "name": "ipython",
    "version": 3
   },
   "file_extension": ".py",
   "mimetype": "text/x-python",
   "name": "python",
   "nbconvert_exporter": "python",
   "pygments_lexer": "ipython3",
   "version": "3.10.8"
  }
 },
 "nbformat": 4,
 "nbformat_minor": 5
}
